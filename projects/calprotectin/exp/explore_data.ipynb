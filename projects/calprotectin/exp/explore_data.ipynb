{
 "cells": [
  {
   "cell_type": "code",
   "execution_count": 2,
   "id": "af0ed3ab",
   "metadata": {},
   "outputs": [],
   "source": [
    "import numpy as np\n",
    "import pandas as pd\n",
    "import matplotlib.pyplot as plt\n"
   ]
  },
  {
   "cell_type": "code",
   "execution_count": 3,
   "id": "6bbb84d1",
   "metadata": {},
   "outputs": [],
   "source": [
    "path_csv = '/home/paul/workspace/postdoc-year1/projects/calprotectin/data/Sepsis_Validation_FINAL DATASET_110925_SH.xlsx'\n",
    "df = pd.read_excel(path_csv)"
   ]
  },
  {
   "cell_type": "code",
   "execution_count": 10,
   "id": "d8bd2005",
   "metadata": {},
   "outputs": [
    {
     "data": {
      "text/plain": [
       "(355, 58)"
      ]
     },
     "execution_count": 10,
     "metadata": {},
     "output_type": "execute_result"
    }
   ],
   "source": [
    "df.shape"
   ]
  },
  {
   "cell_type": "code",
   "execution_count": 17,
   "id": "712a30a1",
   "metadata": {},
   "outputs": [
    {
     "data": {
      "text/plain": [
       "np.int64(1)"
      ]
     },
     "execution_count": 17,
     "metadata": {},
     "output_type": "execute_result"
    }
   ],
   "source": [
    "df['IL6_value_1'].isnull().sum()"
   ]
  },
  {
   "cell_type": "code",
   "execution_count": 18,
   "id": "ab69e1b2",
   "metadata": {},
   "outputs": [
    {
     "data": {
      "text/plain": [
       "(354, 58)"
      ]
     },
     "execution_count": 18,
     "metadata": {},
     "output_type": "execute_result"
    }
   ],
   "source": [
    "# drop the one NaN from IL6\n",
    "df_cleaned = df.dropna(subset=['IL6_value_1'])\n",
    "df_cleaned.shape"
   ]
  },
  {
   "cell_type": "code",
   "execution_count": 21,
   "id": "05eef096",
   "metadata": {},
   "outputs": [
    {
     "data": {
      "text/plain": [
       "Index(['ID', 'Birth_time', 'birth_weight', 'gest_weeks', 'gest_days',\n",
       "       'age_mother', 'gravidity', 'parity', 'birth_mode', 'umbilical_cord_ph',\n",
       "       'capillary_time', 'o2_demand', 'breath_aid', 'heart_rate',\n",
       "       'respiration_rate', 'rr_systolic', 'rr_diastolic', 'base_excess',\n",
       "       'ph_value', 'antibiotic_therapy', 'antibiotic_therapy_duration',\n",
       "       'diagnosis_infection', 'result_blood_culture', 'gestation_diabetes',\n",
       "       'diabetes_type_1_2', 'adiposity', 'early_membrane_rupture',\n",
       "       'membrane_rupture_hours', 'early_labor_pain', 'green_amniotic_liquor',\n",
       "       'b_streptococcus', 'Präeklampsie', 'crp_max_prepartal',\n",
       "       'leukocyte_max_prepartal', 'fever_sub_partu', 'antibiotics_prepartal',\n",
       "       'crp_time_1', 'crp_value_1', 'crp_time_2', 'crp_value_2', 'crp_time_3',\n",
       "       'crp_value_3', 'crp_time_4', 'crp_value_4', 'crp_time_5', 'crp_value_5',\n",
       "       'IL6_time_1', 'IL6_value_1', 'Cal_time_1', 'Cal_value_1', 'Cal_time_2',\n",
       "       'Cal_value_2', 'Cal_time_3', 'Cal_value_3', 'Cal_time_4', 'Cal_value_4',\n",
       "       'Cal_time_5', 'Cal_value_5'],\n",
       "      dtype='object')"
      ]
     },
     "execution_count": 21,
     "metadata": {},
     "output_type": "execute_result"
    }
   ],
   "source": [
    "df_cleaned.columns"
   ]
  },
  {
   "cell_type": "code",
   "execution_count": 25,
   "id": "30391fa1",
   "metadata": {},
   "outputs": [],
   "source": [
    "# select only the biomarkers and labels for diagnosis \n",
    "\n",
    "df_only_biomarkers = df_cleaned[['crp_value_1', 'IL6_value_1', 'Cal_value_1']]\n",
    "sepsis_labels = df_cleaned['diagnosis_infection']"
   ]
  },
  {
   "cell_type": "code",
   "execution_count": null,
   "id": "48677a4b",
   "metadata": {},
   "outputs": [],
   "source": [
    "# create training, validation and test split: \n",
    "from sklearn.model_selection import train_test_split\n",
    "\n",
    "X_train, X_temp, y_train, y_temp = train_test_split(\n",
    "    df_only_biomarkers, \n",
    "    sepsis_labels, \n",
    "    test_size=0.2,          \n",
    "    random_state=42,  \n",
    "    stratify=sepsis_labels\n",
    ")\n",
    "\n",
    "X_val, X_test, y_val, y_test = train_test_split(\n",
    "    X_temp, \n",
    "    y_temp, \n",
    "    test_size=0.5,          \n",
    "    random_state=42,        \n",
    "    stratify=y_temp \n",
    ")\n"
   ]
  },
  {
   "cell_type": "code",
   "execution_count": 34,
   "id": "3db2f3cc",
   "metadata": {},
   "outputs": [
    {
     "name": "stdout",
     "output_type": "stream",
     "text": [
      "Original dataset shape: (354, 3)\n",
      "------------------------------\n",
      "Training set shape: (283, 3) features, (283,) labels\n",
      "Validation set shape: (35, 3) features, (35,) labels\n",
      "Test set shape: (36, 3) features, (36,) labels\n"
     ]
    }
   ],
   "source": [
    "print(f\"Original dataset shape: {df_only_biomarkers.shape}\")\n",
    "print(\"-\" * 30)\n",
    "print(f\"Training set shape: {X_train.shape} features, {y_train.shape} labels\")\n",
    "print(f\"Validation set shape: {X_val.shape} features, {y_val.shape} labels\")\n",
    "print(f\"Test set shape: {X_test.shape} features, {y_test.shape} labels\")"
   ]
  },
  {
   "cell_type": "code",
   "execution_count": 35,
   "id": "6167fa94",
   "metadata": {},
   "outputs": [],
   "source": [
    "train_set = pd.concat([X_train, y_train], axis=1)\n",
    "validation_set = pd.concat([X_val, y_val], axis=1)\n",
    "test_set = pd.concat([X_test, y_test], axis=1)\n",
    "\n",
    "# Save to CSV files\n",
    "# index=False prevents pandas from writing the dataframe index as a column\n",
    "train_set.to_csv('../data/cleaned_train_val_test/train_set.csv', index=False)\n",
    "validation_set.to_csv('../data/cleaned_train_val_test/validation_set.csv', index=False)\n",
    "test_set.to_csv('../data/cleaned_train_val_test/test_set.csv', index=False)\n"
   ]
  },
  {
   "cell_type": "code",
   "execution_count": null,
   "id": "72e918bf",
   "metadata": {},
   "outputs": [],
   "source": []
  },
  {
   "cell_type": "code",
   "execution_count": null,
   "id": "22453631",
   "metadata": {},
   "outputs": [],
   "source": []
  },
  {
   "cell_type": "code",
   "execution_count": null,
   "id": "5a4ba874",
   "metadata": {},
   "outputs": [],
   "source": []
  }
 ],
 "metadata": {
  "kernelspec": {
   "display_name": "base",
   "language": "python",
   "name": "python3"
  },
  "language_info": {
   "codemirror_mode": {
    "name": "ipython",
    "version": 3
   },
   "file_extension": ".py",
   "mimetype": "text/x-python",
   "name": "python",
   "nbconvert_exporter": "python",
   "pygments_lexer": "ipython3",
   "version": "3.13.5"
  }
 },
 "nbformat": 4,
 "nbformat_minor": 5
}
