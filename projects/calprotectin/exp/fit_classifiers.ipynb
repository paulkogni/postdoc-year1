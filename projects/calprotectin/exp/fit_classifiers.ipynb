{
 "cells": [
  {
   "cell_type": "code",
   "execution_count": 1,
   "id": "6359bf59",
   "metadata": {},
   "outputs": [],
   "source": [
    "import pandas as pd\n",
    "import numpy as np\n",
    "from sklearn.model_selection import StratifiedKFold, cross_val_score\n",
    "from sklearn.preprocessing import StandardScaler\n",
    "from sklearn.linear_model import LogisticRegression\n",
    "from sklearn.neighbors import KNeighborsClassifier\n",
    "from sklearn.svm import SVC\n",
    "from sklearn.metrics import classification_report, roc_auc_score, ConfusionMatrixDisplay\n",
    "import matplotlib.pyplot as plt"
   ]
  },
  {
   "cell_type": "code",
   "execution_count": 2,
   "id": "13624dea",
   "metadata": {},
   "outputs": [],
   "source": [
    "# data paths\n",
    "path_train = '/home/paul/workspace/postdoc-year1/projects/calprotectin/data/cleaned_train_val_test/train_set.csv'\n",
    "path_val = '/home/paul/workspace/postdoc-year1/projects/calprotectin/data/cleaned_train_val_test/validation_set.csv'\n",
    "path_test = '/home/paul/workspace/postdoc-year1/projects/calprotectin/data/cleaned_train_val_test/test_set.csv'\n",
    "\n",
    "\n",
    "# loading \n",
    "train_df = pd.read_csv(path_train)\n",
    "val_df = pd.read_csv(path_val)\n",
    "test_df = pd.read_csv(path_test)"
   ]
  },
  {
   "cell_type": "code",
   "execution_count": 3,
   "id": "e32de782",
   "metadata": {},
   "outputs": [
    {
     "name": "stdout",
     "output_type": "stream",
     "text": [
      "0.3135593220338983\n"
     ]
    }
   ],
   "source": [
    "total_y = len(train_df) + len(val_df) + len(test_df)\n",
    "positives = train_df['diagnosis_infection'].sum() + val_df['diagnosis_infection'].sum() + test_df['diagnosis_infection'].sum()\n",
    "print(positives/total_y)"
   ]
  },
  {
   "cell_type": "code",
   "execution_count": 4,
   "id": "15b03f7f",
   "metadata": {},
   "outputs": [],
   "source": [
    "# Separate features and labels\n",
    "# FEATURES = ['crp_value_1', 'IL6_value_1']\n",
    "# FEATURES = ['Cal_value_1']\n",
    "FEATURES = ['crp_value_1', 'IL6_value_1', 'Cal_value_1']\n",
    "TARGET = 'diagnosis_infection'\n",
    "\n",
    "X_train = train_df[FEATURES]\n",
    "y_train = train_df[TARGET]\n",
    "\n",
    "X_val = val_df[FEATURES]\n",
    "y_val = val_df[TARGET]\n",
    "\n",
    "X_test = test_df[FEATURES]\n",
    "y_test = test_df[TARGET]"
   ]
  },
  {
   "cell_type": "code",
   "execution_count": 5,
   "id": "0e4cd8fe",
   "metadata": {},
   "outputs": [],
   "source": [
    "# Initialize the scaler\n",
    "scaler = StandardScaler()\n",
    "\n",
    "# Fit the scaler ONLY on the training data\n",
    "scaler.fit(X_train)\n",
    "\n",
    "# Transform the training, validation, and test data using the fitted scaler\n",
    "X_train_scaled = scaler.transform(X_train)\n",
    "X_val_scaled = scaler.transform(X_val)\n",
    "X_test_scaled = scaler.transform(X_test)"
   ]
  },
  {
   "cell_type": "code",
   "execution_count": 6,
   "id": "ce4cd82f",
   "metadata": {},
   "outputs": [
    {
     "name": "stdout",
     "output_type": "stream",
     "text": [
      "\n",
      "--- Cross-Validation Results ---\n",
      "ROC AUC scores for each fold: [0.72934473 0.68660969 0.89031339 0.74561404 0.83408748]\n",
      "Mean ROC AUC: 0.7772\n",
      "Standard Deviation of ROC AUC: 0.0742\n"
     ]
    }
   ],
   "source": [
    "# Initialize the model\n",
    "# We can add class_weight='balanced' to help with the imbalanced data\n",
    "model = LogisticRegression(random_state=42, class_weight='balanced')\n",
    "\n",
    "# Initialize the cross-validation strategy\n",
    "cv = StratifiedKFold(n_splits=5, shuffle=True, random_state=42)\n",
    "\n",
    "# Perform cross-validation on the training data\n",
    "# We use 'roc_auc' as the score, as it's better for imbalanced classes than accuracy\n",
    "cv_scores = cross_val_score(model, X_train_scaled, y_train, cv=cv, scoring='roc_auc')\n",
    "\n",
    "print(\"\\n--- Cross-Validation Results ---\")\n",
    "print(f\"ROC AUC scores for each fold: {cv_scores}\")\n",
    "print(f\"Mean ROC AUC: {np.mean(cv_scores):.4f}\")\n",
    "print(f\"Standard Deviation of ROC AUC: {np.std(cv_scores):.4f}\")\n"
   ]
  },
  {
   "cell_type": "code",
   "execution_count": 7,
   "id": "4862d9c0",
   "metadata": {},
   "outputs": [
    {
     "name": "stdout",
     "output_type": "stream",
     "text": [
      "\n",
      "--- Final Model Training and Evaluation ---\n",
      "\n",
      "Performance on the Test Set:\n",
      "Test Set ROC AUC Score: 0.8291\n",
      "\n",
      "Classification Report (Test Set):\n",
      "              precision    recall  f1-score   support\n",
      "\n",
      "           0       0.82      0.92      0.87        25\n",
      "           1       0.75      0.55      0.63        11\n",
      "\n",
      "    accuracy                           0.81        36\n",
      "   macro avg       0.79      0.73      0.75        36\n",
      "weighted avg       0.80      0.81      0.80        36\n",
      "\n"
     ]
    }
   ],
   "source": [
    "print(\"\\n--- Final Model Training and Evaluation ---\")\n",
    "\n",
    "# Train the model on the ENTIRE scaled training set\n",
    "model.fit(X_train_scaled, y_train)\n",
    "\n",
    "# Evaluate on the unseen TEST set\n",
    "y_pred_test = model.predict(X_test_scaled)\n",
    "y_pred_proba_test = model.predict_proba(X_test_scaled)[:, 1] # Probabilities for the positive class\n",
    "\n",
    "print(\"\\nPerformance on the Test Set:\")\n",
    "print(f\"Test Set ROC AUC Score: {roc_auc_score(y_test, y_pred_proba_test):.4f}\")\n",
    "print(\"\\nClassification Report (Test Set):\")\n",
    "print(classification_report(y_test, y_pred_test))"
   ]
  },
  {
   "cell_type": "code",
   "execution_count": 11,
   "id": "031e66f2",
   "metadata": {},
   "outputs": [
    {
     "name": "stdout",
     "output_type": "stream",
     "text": [
      "Confusion Matrix (Test Set):\n"
     ]
    },
    {
     "data": {
      "image/png": "[encoded data removed]",
      "text/plain": [
       "<Figure size 640x480 with 2 Axes>"
      ]
     },
     "metadata": {},
     "output_type": "display_data"
    }
   ],
   "source": [
    "print(\"Confusion Matrix (Test Set):\")\n",
    "ConfusionMatrixDisplay.from_estimator(model, X_test_scaled, y_test, cmap='Blues')\n",
    "plt.show()"
   ]
  },
  {
   "cell_type": "code",
   "execution_count": 12,
   "id": "4a384ebd",
   "metadata": {},
   "outputs": [
    {
     "name": "stdout",
     "output_type": "stream",
     "text": [
      "\n",
      "--- Model Feature Importance ---\n",
      "Positive coefficients increase the log-odds of predicting sepsis (1).\n",
      "Negative coefficients decrease the log-odds.\n",
      "             Coefficient\n",
      "IL6_value_1     3.380888\n",
      "crp_value_1     0.697977\n",
      "Cal_value_1     0.277411\n"
     ]
    }
   ],
   "source": [
    "# # --- 6. Interpret Model Coefficients ---\n",
    "# # The coefficients tell us the importance and direction of each feature\n",
    "coefficients = pd.DataFrame(model.coef_[0], index=FEATURES, columns=['Coefficient'])\n",
    "coefficients.sort_values('Coefficient', ascending=False, inplace=True)\n",
    "\n",
    "print(\"\\n--- Model Feature Importance ---\")\n",
    "print(\"Positive coefficients increase the log-odds of predicting sepsis (1).\")\n",
    "print(\"Negative coefficients decrease the log-odds.\")\n",
    "print(coefficients)"
   ]
  },
  {
   "cell_type": "code",
   "execution_count": null,
   "id": "ec93dadc",
   "metadata": {},
   "outputs": [],
   "source": []
  },
  {
   "cell_type": "code",
   "execution_count": null,
   "id": "5f0e37c5",
   "metadata": {},
   "outputs": [],
   "source": []
  },
  {
   "cell_type": "code",
   "execution_count": null,
   "id": "ebb636e2",
   "metadata": {},
   "outputs": [],
   "source": []
  },
  {
   "cell_type": "code",
   "execution_count": null,
   "id": "dccaf50d",
   "metadata": {},
   "outputs": [],
   "source": []
  },
  {
   "cell_type": "code",
   "execution_count": null,
   "id": "e8e8a7c1",
   "metadata": {},
   "outputs": [],
   "source": []
  },
  {
   "cell_type": "code",
   "execution_count": null,
   "id": "5faba23d",
   "metadata": {},
   "outputs": [],
   "source": []
  },
  {
   "cell_type": "code",
   "execution_count": null,
   "id": "9cb1d0ec",
   "metadata": {},
   "outputs": [],
   "source": []
  }
 ],
 "metadata": {
  "kernelspec": {
   "display_name": "base",
   "language": "python",
   "name": "python3"
  },
  "language_info": {
   "codemirror_mode": {
    "name": "ipython",
    "version": 3
   },
   "file_extension": ".py",
   "mimetype": "text/x-python",
   "name": "python",
   "nbconvert_exporter": "python",
   "pygments_lexer": "ipython3",
   "version": "3.13.5"
  }
 },
 "nbformat": 4,
 "nbformat_minor": 5
}
