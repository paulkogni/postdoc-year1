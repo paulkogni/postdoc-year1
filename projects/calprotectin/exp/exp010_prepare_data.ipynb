{
 "cells": [
  {
   "cell_type": "code",
   "execution_count": 12,
   "id": "41d4982b",
   "metadata": {},
   "outputs": [],
   "source": [
    "import numpy as np\n",
    "import pandas as pd\n",
    "import matplotlib.pyplot as plt\n"
   ]
  },
  {
   "cell_type": "code",
   "execution_count": 13,
   "id": "a6cef0bc",
   "metadata": {},
   "outputs": [],
   "source": [
    "path_csv = '/home/paul/Documents/datasets/files_neonates_final/Sepsis_Validation_FINAL DATASET_131025_SH.sav'\n",
    "df = pd.read_spss(path_csv)"
   ]
  },
  {
   "cell_type": "code",
   "execution_count": 14,
   "id": "da598663",
   "metadata": {},
   "outputs": [
    {
     "data": {
      "text/plain": [
       "(355, 72)"
      ]
     },
     "execution_count": 14,
     "metadata": {},
     "output_type": "execute_result"
    }
   ],
   "source": [
    "df.shape"
   ]
  },
  {
   "cell_type": "code",
   "execution_count": 15,
   "id": "1bdcbf70",
   "metadata": {},
   "outputs": [
    {
     "name": "stdout",
     "output_type": "stream",
     "text": [
      "Index(['ID', 'Birth_time', 'birth_weight', 'gest_weeks', 'gest_days',\n",
      "       'age_mother', 'gravidity', 'parity', 'birth_mode', 'umbilical_cord_ph',\n",
      "       'capillary_time', 'o2_demand', 'breath_aid', 'heart_rate',\n",
      "       'respiration_rate', 'rr_systolic', 'rr_diastolic', 'base_excess',\n",
      "       'ph_value', 'antibiotic_therapy', 'antibiotic_therapy_duration',\n",
      "       'diagnosis_infection', 'result_blood_culture', 'gestation_diabetes',\n",
      "       'diabetes_type_1_2', 'adiposity', 'early_membrane_rupture',\n",
      "       'membrane_rupture_hours', 'early_labor_pain', 'green_amniotic_liquor',\n",
      "       'b_streptococcus', 'Präeklampsie', 'crp_max_prepartal',\n",
      "       'leukocyte_max_prepartal', 'fever_sub_partu', 'antibiotics_prepartal',\n",
      "       'prepartal_antibiotics_count', 'Labtime1', 'SCP1', 'CRP1', 'IL61',\n",
      "       'WBC1', 'Labtime2', 'SCP2', 'CRP2', 'IL62', 'WBC2', 'Labtime3', 'SCP3',\n",
      "       'CRP3', 'IL63', 'WBC3', 'Labtime4', 'SCP4', 'CRP4', 'IL64', 'WBC4',\n",
      "       'Labtime5', 'SCP5', 'CRP5', 'IL65', 'WBC5', 'Labtime6', 'SCP6', 'CRP6',\n",
      "       'IL66', 'WBC6', 'Labtime7', 'SCP7', 'CRP7', 'IL67', 'WBC7'],\n",
      "      dtype='object')\n"
     ]
    }
   ],
   "source": [
    "print(df.columns)"
   ]
  },
  {
   "cell_type": "code",
   "execution_count": 16,
   "id": "206b10c0",
   "metadata": {},
   "outputs": [
    {
     "data": {
      "text/plain": [
       "np.int64(2)"
      ]
     },
     "execution_count": 16,
     "metadata": {},
     "output_type": "execute_result"
    }
   ],
   "source": [
    "df['early_membrane_rupture'].isnull().sum()"
   ]
  },
  {
   "cell_type": "code",
   "execution_count": 17,
   "id": "e7e974a7",
   "metadata": {},
   "outputs": [
    {
     "name": "stdout",
     "output_type": "stream",
     "text": [
      "\n",
      "Step 1: Dropping rows with null gestational age...\n",
      "Dropped 1 rows.\n",
      "Current shape: (354, 72)\n"
     ]
    }
   ],
   "source": [
    "# drop where gest_days/weeks is null \n",
    "print(\"\\nStep 1: Dropping rows with null gestational age...\")\n",
    "initial_rows = len(df)\n",
    "df.dropna(subset=['gest_weeks', 'gest_days'], inplace=True)\n",
    "print(f\"Dropped {initial_rows - len(df)} rows.\")\n",
    "print(f\"Current shape: {df.shape}\")"
   ]
  },
  {
   "cell_type": "code",
   "execution_count": 18,
   "id": "0a8c0211",
   "metadata": {},
   "outputs": [
    {
     "name": "stdout",
     "output_type": "stream",
     "text": [
      "\n",
      "Step 2: Calculating total gestation time in days...\n",
      "Created 'total_gest_days' column and dropped original columns.\n",
      "   total_gest_days\n",
      "0            271.0\n",
      "1            232.0\n",
      "2            253.0\n",
      "3            241.0\n",
      "4            269.0\n"
     ]
    }
   ],
   "source": [
    "# add gest_total in days\n",
    "print(\"\\nStep 2: Calculating total gestation time in days...\")\n",
    "df['total_gest_days'] = (df['gest_weeks'] * 7) + df['gest_days']\n",
    "# We can now drop the original columns if they are no longer needed\n",
    "df.drop(columns=['gest_weeks', 'gest_days'], inplace=True)\n",
    "print(\"Created 'total_gest_days' column and dropped original columns.\")\n",
    "print(df[['total_gest_days']].head())\n"
   ]
  },
  {
   "cell_type": "code",
   "execution_count": 19,
   "id": "e611a2da",
   "metadata": {},
   "outputs": [
    {
     "name": "stdout",
     "output_type": "stream",
     "text": [
      "Dropped 2 rows.\n",
      "Current shape: (352, 71)\n",
      "Filled NaN values in 'membrane_rupture_hours' with 0.\n",
      "   early_membrane_rupture  membrane_rupture_hours\n",
      "0                     0.0                     0.0\n",
      "1                     1.0                     0.0\n",
      "2                     0.0                     0.0\n",
      "3                     1.0                    57.0\n",
      "4                     0.0                     0.0\n"
     ]
    },
    {
     "name": "stderr",
     "output_type": "stream",
     "text": [
      "/tmp/ipykernel_72528/1248692956.py:7: FutureWarning: A value is trying to be set on a copy of a DataFrame or Series through chained assignment using an inplace method.\n",
      "The behavior will change in pandas 3.0. This inplace method will never work because the intermediate object on which we are setting values always behaves as a copy.\n",
      "\n",
      "For example, when doing 'df[col].method(value, inplace=True)', try using 'df.method({col: value}, inplace=True)' or df[col] = df[col].method(value) instead, to perform the operation inplace on the original object.\n",
      "\n",
      "\n",
      "  df['membrane_rupture_hours'].fillna(0, inplace=True)\n"
     ]
    }
   ],
   "source": [
    "# insert 0 for membrane rupture hours\n",
    "initial_rows = len(df)\n",
    "df.dropna(subset=['early_membrane_rupture'], inplace=True)\n",
    "print(f\"Dropped {initial_rows - len(df)} rows.\")\n",
    "print(f\"Current shape: {df.shape}\")\n",
    "\n",
    "df['membrane_rupture_hours'].fillna(0, inplace=True)\n",
    "print(\"Filled NaN values in 'membrane_rupture_hours' with 0.\")\n",
    "print(df[['early_membrane_rupture', 'membrane_rupture_hours']].head())"
   ]
  },
  {
   "cell_type": "code",
   "execution_count": 36,
   "id": "abd615b8",
   "metadata": {},
   "outputs": [],
   "source": [
    "# select features for classification later\n",
    "features_clinical = ['birth_weight', 'total_gest_days',\n",
    "       'age_mother', 'gravidity', 'parity', 'umbilical_cord_ph',\n",
    "       'capillary_time', 'o2_demand', 'breath_aid', 'heart_rate',\n",
    "       'respiration_rate', 'rr_systolic', 'rr_diastolic', 'base_excess',\n",
    "       'ph_value', 'antibiotic_therapy', 'diagnosis_infection', 'gestation_diabetes',\n",
    "       'diabetes_type_1_2', 'adiposity', 'early_membrane_rupture',\n",
    "       'membrane_rupture_hours', 'early_labor_pain', 'green_amniotic_liquor',\n",
    "       'b_streptococcus', 'fever_sub_partu', 'antibiotics_prepartal']\n",
    "\n",
    "features_biomarkers = ['SCP1', 'CRP1', 'IL61']"
   ]
  },
  {
   "cell_type": "code",
   "execution_count": 39,
   "id": "263cde9d",
   "metadata": {},
   "outputs": [
    {
     "name": "stdout",
     "output_type": "stream",
     "text": [
      "Columns with missing values:\n",
      "birth_weight               0\n",
      "total_gest_days            0\n",
      "age_mother                 0\n",
      "gravidity                  2\n",
      "parity                     1\n",
      "umbilical_cord_ph          3\n",
      "capillary_time             0\n",
      "o2_demand                  0\n",
      "breath_aid                 0\n",
      "heart_rate                 1\n",
      "respiration_rate           5\n",
      "rr_systolic                4\n",
      "rr_diastolic               4\n",
      "base_excess               17\n",
      "ph_value                  13\n",
      "antibiotic_therapy         0\n",
      "diagnosis_infection        0\n",
      "gestation_diabetes         0\n",
      "diabetes_type_1_2          0\n",
      "adiposity                  0\n",
      "early_membrane_rupture     0\n",
      "membrane_rupture_hours     0\n",
      "early_labor_pain           1\n",
      "green_amniotic_liquor      1\n",
      "b_streptococcus            1\n",
      "fever_sub_partu            0\n",
      "antibiotics_prepartal      0\n",
      "SCP1                      50\n",
      "CRP1                      10\n",
      "IL61                       1\n",
      "dtype: int64\n"
     ]
    }
   ],
   "source": [
    "null_counts = df[features_clinical + features_biomarkers].isnull().sum()\n",
    "\n",
    "# Filter to show only columns with missing values\n",
    "# null_counts = null_counts[null_counts > 0]\n",
    "\n",
    "print(\"Columns with missing values:\")\n",
    "print(null_counts)"
   ]
  },
  {
   "cell_type": "code",
   "execution_count": 38,
   "id": "a382158e",
   "metadata": {},
   "outputs": [
    {
     "name": "stdout",
     "output_type": "stream",
     "text": [
      "Shape before dropping remaining NaNs: (352, 30)\n",
      "Shape after dropping remaining NaNs: (279, 30)\n",
      "\n",
      "Final DataFrame Info:\n",
      "<class 'pandas.core.frame.DataFrame'>\n",
      "Index: 279 entries, 1 to 354\n",
      "Data columns (total 30 columns):\n",
      " #   Column                  Non-Null Count  Dtype  \n",
      "---  ------                  --------------  -----  \n",
      " 0   birth_weight            279 non-null    float64\n",
      " 1   total_gest_days         279 non-null    float64\n",
      " 2   age_mother              279 non-null    float64\n",
      " 3   gravidity               279 non-null    float64\n",
      " 4   parity                  279 non-null    float64\n",
      " 5   umbilical_cord_ph       279 non-null    float64\n",
      " 6   capillary_time          279 non-null    object \n",
      " 7   o2_demand               279 non-null    float64\n",
      " 8   breath_aid              279 non-null    float64\n",
      " 9   heart_rate              279 non-null    float64\n",
      " 10  respiration_rate        279 non-null    float64\n",
      " 11  rr_systolic             279 non-null    float64\n",
      " 12  rr_diastolic            279 non-null    float64\n",
      " 13  base_excess             279 non-null    float64\n",
      " 14  ph_value                279 non-null    float64\n",
      " 15  antibiotic_therapy      279 non-null    float64\n",
      " 16  diagnosis_infection     279 non-null    float64\n",
      " 17  gestation_diabetes      279 non-null    float64\n",
      " 18  diabetes_type_1_2       279 non-null    float64\n",
      " 19  adiposity               279 non-null    float64\n",
      " 20  early_membrane_rupture  279 non-null    float64\n",
      " 21  membrane_rupture_hours  279 non-null    float64\n",
      " 22  early_labor_pain        279 non-null    float64\n",
      " 23  green_amniotic_liquor   279 non-null    float64\n",
      " 24  b_streptococcus         279 non-null    float64\n",
      " 25  fever_sub_partu         279 non-null    float64\n",
      " 26  antibiotics_prepartal   279 non-null    float64\n",
      " 27  SCP1                    279 non-null    float64\n",
      " 28  CRP1                    279 non-null    float64\n",
      " 29  IL61                    279 non-null    float64\n",
      "dtypes: float64(29), object(1)\n",
      "memory usage: 67.6+ KB\n",
      "\n",
      "Final DataFrame Head:\n",
      "   birth_weight  total_gest_days  age_mother  gravidity  parity  \\\n",
      "1        2060.0            232.0        27.0        1.0     1.0   \n",
      "2        1900.0            253.0        40.0        3.0     2.0   \n",
      "3        2940.0            241.0        28.0        1.0     1.0   \n",
      "4        3580.0            269.0        32.0        2.0     2.0   \n",
      "6        2440.0            269.0        37.0        6.0     5.0   \n",
      "\n",
      "   umbilical_cord_ph capillary_time  o2_demand  breath_aid  heart_rate  ...  \\\n",
      "1               7.33             <2        1.0         1.0       150.0  ...   \n",
      "2               7.31              2        1.0         1.0       136.0  ...   \n",
      "3               7.39                       0.0         0.0       124.0  ...   \n",
      "4               7.33             <2        0.0         0.0       125.0  ...   \n",
      "6               7.38            2-3        0.0         0.0       138.0  ...   \n",
      "\n",
      "   early_membrane_rupture  membrane_rupture_hours  early_labor_pain  \\\n",
      "1                     1.0                     0.0               1.0   \n",
      "2                     0.0                     0.0               0.0   \n",
      "3                     1.0                    57.0               0.0   \n",
      "4                     0.0                     0.0               0.0   \n",
      "6                     1.0                     8.0               0.0   \n",
      "\n",
      "   green_amniotic_liquor  b_streptococcus  fever_sub_partu  \\\n",
      "1                    0.0              0.0              0.0   \n",
      "2                    0.0              2.0              0.0   \n",
      "3                    0.0              0.0              0.0   \n",
      "4                    0.0              0.0              0.0   \n",
      "6                    0.0              0.0              0.0   \n",
      "\n",
      "   antibiotics_prepartal    SCP1    CRP1     IL61  \n",
      "1                    1.0  0.7100  0.9998   9.9998  \n",
      "2                    0.0  0.2998  0.9998   9.9998  \n",
      "3                    0.0  0.6400  0.9998  15.5000  \n",
      "4                    0.0  2.4200  1.0000   9.9998  \n",
      "6                    0.0  7.0300  0.9998  97.5000  \n",
      "\n",
      "[5 rows x 30 columns]\n"
     ]
    }
   ],
   "source": [
    "# drop where there are null values\n",
    "df_final = df[features_clinical + features_biomarkers].copy()\n",
    "print(f\"Shape before dropping remaining NaNs: {df_final.shape}\")\n",
    "# Drop any row that still has a missing value in any of the selected columns\n",
    "df_final.dropna(inplace=True)\n",
    "print(f\"Shape after dropping remaining NaNs: {df_final.shape}\")\n",
    "\n",
    "print(\"\\nFinal DataFrame Info:\")\n",
    "df_final.info()\n",
    "print(\"\\nFinal DataFrame Head:\")\n",
    "print(df_final.head())"
   ]
  },
  {
   "cell_type": "code",
   "execution_count": null,
   "id": "a072d27e",
   "metadata": {},
   "outputs": [],
   "source": [
    "# select features and labels "
   ]
  },
  {
   "cell_type": "code",
   "execution_count": null,
   "id": "ffa23ebb",
   "metadata": {},
   "outputs": [],
   "source": [
    "# visualize \n"
   ]
  },
  {
   "cell_type": "code",
   "execution_count": null,
   "id": "95a1f1a3",
   "metadata": {},
   "outputs": [],
   "source": [
    "# make train and test split and save\n"
   ]
  },
  {
   "cell_type": "code",
   "execution_count": null,
   "id": "43e7d88f",
   "metadata": {},
   "outputs": [],
   "source": []
  },
  {
   "cell_type": "code",
   "execution_count": null,
   "id": "e0f4a0c5",
   "metadata": {},
   "outputs": [],
   "source": []
  },
  {
   "cell_type": "code",
   "execution_count": null,
   "id": "c1716711",
   "metadata": {},
   "outputs": [],
   "source": []
  },
  {
   "cell_type": "code",
   "execution_count": null,
   "id": "fb82a2f9",
   "metadata": {},
   "outputs": [],
   "source": []
  },
  {
   "cell_type": "code",
   "execution_count": null,
   "id": "2bb6951a",
   "metadata": {},
   "outputs": [],
   "source": []
  }
 ],
 "metadata": {
  "kernelspec": {
   "display_name": "base",
   "language": "python",
   "name": "python3"
  },
  "language_info": {
   "codemirror_mode": {
    "name": "ipython",
    "version": 3
   },
   "file_extension": ".py",
   "mimetype": "text/x-python",
   "name": "python",
   "nbconvert_exporter": "python",
   "pygments_lexer": "ipython3",
   "version": "3.13.5"
  }
 },
 "nbformat": 4,
 "nbformat_minor": 5
}
