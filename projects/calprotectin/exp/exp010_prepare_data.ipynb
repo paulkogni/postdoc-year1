{
 "cells": [
  {
   "cell_type": "code",
   "execution_count": 21,
   "id": "41d4982b",
   "metadata": {},
   "outputs": [],
   "source": [
    "import numpy as np\n",
    "import pandas as pd\n",
    "import matplotlib.pyplot as plt\n",
    "from sklearn.preprocessing import StandardScaler\n",
    "from sklearn.manifold import TSNE"
   ]
  },
  {
   "cell_type": "code",
   "execution_count": 4,
   "id": "a6cef0bc",
   "metadata": {},
   "outputs": [],
   "source": [
    "path_csv = '/home/paul/Documents/datasets/files_neonates_final/Sepsis_Validation_FINAL DATASET_131025_SH.sav'\n",
    "df = pd.read_spss(path_csv)"
   ]
  },
  {
   "cell_type": "code",
   "execution_count": 5,
   "id": "da598663",
   "metadata": {},
   "outputs": [
    {
     "data": {
      "text/plain": [
       "(355, 72)"
      ]
     },
     "execution_count": 5,
     "metadata": {},
     "output_type": "execute_result"
    }
   ],
   "source": [
    "df.shape"
   ]
  },
  {
   "cell_type": "code",
   "execution_count": 6,
   "id": "1bdcbf70",
   "metadata": {},
   "outputs": [
    {
     "name": "stdout",
     "output_type": "stream",
     "text": [
      "Index(['ID', 'Birth_time', 'birth_weight', 'gest_weeks', 'gest_days',\n",
      "       'age_mother', 'gravidity', 'parity', 'birth_mode', 'umbilical_cord_ph',\n",
      "       'capillary_time', 'o2_demand', 'breath_aid', 'heart_rate',\n",
      "       'respiration_rate', 'rr_systolic', 'rr_diastolic', 'base_excess',\n",
      "       'ph_value', 'antibiotic_therapy', 'antibiotic_therapy_duration',\n",
      "       'diagnosis_infection', 'result_blood_culture', 'gestation_diabetes',\n",
      "       'diabetes_type_1_2', 'adiposity', 'early_membrane_rupture',\n",
      "       'membrane_rupture_hours', 'early_labor_pain', 'green_amniotic_liquor',\n",
      "       'b_streptococcus', 'Präeklampsie', 'crp_max_prepartal',\n",
      "       'leukocyte_max_prepartal', 'fever_sub_partu', 'antibiotics_prepartal',\n",
      "       'prepartal_antibiotics_count', 'Labtime1', 'SCP1', 'CRP1', 'IL61',\n",
      "       'WBC1', 'Labtime2', 'SCP2', 'CRP2', 'IL62', 'WBC2', 'Labtime3', 'SCP3',\n",
      "       'CRP3', 'IL63', 'WBC3', 'Labtime4', 'SCP4', 'CRP4', 'IL64', 'WBC4',\n",
      "       'Labtime5', 'SCP5', 'CRP5', 'IL65', 'WBC5', 'Labtime6', 'SCP6', 'CRP6',\n",
      "       'IL66', 'WBC6', 'Labtime7', 'SCP7', 'CRP7', 'IL67', 'WBC7'],\n",
      "      dtype='object')\n"
     ]
    }
   ],
   "source": [
    "print(df.columns)"
   ]
  },
  {
   "cell_type": "code",
   "execution_count": 33,
   "id": "eb3cf809",
   "metadata": {},
   "outputs": [],
   "source": [
    "# select only the relevant features\n",
    "# select features for classification later\n",
    "features_relevant_total = ['birth_weight', 'gest_weeks', 'gest_days',\n",
    "       'age_mother', 'gravidity', 'parity', 'umbilical_cord_ph','o2_demand', 'breath_aid', 'heart_rate',\n",
    "       'respiration_rate', 'rr_systolic', 'rr_diastolic', 'base_excess', 'diagnosis_infection', 'gestation_diabetes',\n",
    "       'diabetes_type_1_2', 'adiposity', 'early_membrane_rupture',\n",
    "       'membrane_rupture_hours', 'early_labor_pain', 'green_amniotic_liquor',\n",
    "       'b_streptococcus', 'fever_sub_partu', 'antibiotics_prepartal', 'SCP1', 'CRP1', 'IL61', 'WBC1']\n",
    "\n",
    "df_subset = df[features_relevant_total].copy()"
   ]
  },
  {
   "cell_type": "code",
   "execution_count": 35,
   "id": "00cd995e",
   "metadata": {},
   "outputs": [
    {
     "name": "stdout",
     "output_type": "stream",
     "text": [
      "Columns with missing values:\n",
      "birth_weight                0\n",
      "gest_weeks                  1\n",
      "gest_days                   1\n",
      "age_mother                  0\n",
      "gravidity                   3\n",
      "parity                      2\n",
      "umbilical_cord_ph           3\n",
      "o2_demand                   0\n",
      "breath_aid                  0\n",
      "heart_rate                  1\n",
      "respiration_rate            5\n",
      "rr_systolic                 4\n",
      "rr_diastolic                4\n",
      "base_excess                17\n",
      "diagnosis_infection         0\n",
      "gestation_diabetes          2\n",
      "diabetes_type_1_2           2\n",
      "adiposity                   2\n",
      "early_membrane_rupture      2\n",
      "membrane_rupture_hours    227\n",
      "early_labor_pain            3\n",
      "green_amniotic_liquor       3\n",
      "b_streptococcus             3\n",
      "fever_sub_partu             2\n",
      "antibiotics_prepartal       2\n",
      "SCP1                       52\n",
      "CRP1                       10\n",
      "IL61                        1\n",
      "WBC1                       10\n",
      "dtype: int64\n"
     ]
    }
   ],
   "source": [
    "# look at null counts \n",
    "null_counts = df_subset.isnull().sum()\n",
    "\n",
    "# Filter to show only columns with missing values\n",
    "# null_counts = null_counts[null_counts > 0]\n",
    "\n",
    "print(\"Columns with missing values:\")\n",
    "print(null_counts)"
   ]
  },
  {
   "cell_type": "code",
   "execution_count": 36,
   "id": "e611a2da",
   "metadata": {},
   "outputs": [
    {
     "name": "stdout",
     "output_type": "stream",
     "text": [
      "Dropped 2 rows.\n",
      "Current shape: (353, 29)\n",
      "Filled NaN values in 'membrane_rupture_hours' with 0.\n",
      "   early_membrane_rupture  membrane_rupture_hours\n",
      "0                     0.0                     0.0\n",
      "1                     1.0                     0.0\n",
      "2                     0.0                     0.0\n",
      "3                     1.0                    57.0\n",
      "4                     0.0                     0.0\n"
     ]
    },
    {
     "name": "stderr",
     "output_type": "stream",
     "text": [
      "/tmp/ipykernel_103237/1555996094.py:7: FutureWarning: A value is trying to be set on a copy of a DataFrame or Series through chained assignment using an inplace method.\n",
      "The behavior will change in pandas 3.0. This inplace method will never work because the intermediate object on which we are setting values always behaves as a copy.\n",
      "\n",
      "For example, when doing 'df[col].method(value, inplace=True)', try using 'df.method({col: value}, inplace=True)' or df[col] = df[col].method(value) instead, to perform the operation inplace on the original object.\n",
      "\n",
      "\n",
      "  df_subset['membrane_rupture_hours'].fillna(0, inplace=True)\n"
     ]
    }
   ],
   "source": [
    "# insert 0 for membrane rupture hours\n",
    "initial_rows = len(df_subset)\n",
    "df_subset.dropna(subset=['early_membrane_rupture'], inplace=True)\n",
    "print(f\"Dropped {initial_rows - len(df_subset)} rows.\")\n",
    "print(f\"Current shape: {df_subset.shape}\")\n",
    "\n",
    "df_subset['membrane_rupture_hours'].fillna(0, inplace=True)\n",
    "print(\"Filled NaN values in 'membrane_rupture_hours' with 0.\")\n",
    "print(df_subset[['early_membrane_rupture', 'membrane_rupture_hours']].head())"
   ]
  },
  {
   "cell_type": "code",
   "execution_count": 37,
   "id": "abd615b8",
   "metadata": {},
   "outputs": [
    {
     "name": "stdout",
     "output_type": "stream",
     "text": [
      "Columns with missing values:\n",
      "birth_weight               0\n",
      "gest_weeks                 1\n",
      "gest_days                  1\n",
      "age_mother                 0\n",
      "gravidity                  2\n",
      "parity                     1\n",
      "umbilical_cord_ph          3\n",
      "o2_demand                  0\n",
      "breath_aid                 0\n",
      "heart_rate                 1\n",
      "respiration_rate           5\n",
      "rr_systolic                4\n",
      "rr_diastolic               4\n",
      "base_excess               17\n",
      "diagnosis_infection        0\n",
      "gestation_diabetes         0\n",
      "diabetes_type_1_2          0\n",
      "adiposity                  0\n",
      "early_membrane_rupture     0\n",
      "membrane_rupture_hours     0\n",
      "early_labor_pain           1\n",
      "green_amniotic_liquor      1\n",
      "b_streptococcus            1\n",
      "fever_sub_partu            0\n",
      "antibiotics_prepartal      0\n",
      "SCP1                      50\n",
      "CRP1                      10\n",
      "IL61                       1\n",
      "WBC1                       9\n",
      "dtype: int64\n"
     ]
    }
   ],
   "source": [
    "# look at null counts again\n",
    "null_counts = df_subset.isnull().sum()\n",
    "\n",
    "# Filter to show only columns with missing values\n",
    "# null_counts = null_counts[null_counts > 0]\n",
    "\n",
    "print(\"Columns with missing values:\")\n",
    "print(null_counts)"
   ]
  },
  {
   "cell_type": "code",
   "execution_count": 38,
   "id": "263cde9d",
   "metadata": {},
   "outputs": [
    {
     "name": "stdout",
     "output_type": "stream",
     "text": [
      "Shape before dropping remaining NaNs: (353, 29)\n",
      "Shape after dropping remaining NaNs: (273, 29)\n",
      "\n",
      "Final DataFrame Info:\n",
      "<class 'pandas.core.frame.DataFrame'>\n",
      "Index: 273 entries, 1 to 354\n",
      "Data columns (total 29 columns):\n",
      " #   Column                  Non-Null Count  Dtype  \n",
      "---  ------                  --------------  -----  \n",
      " 0   birth_weight            273 non-null    float64\n",
      " 1   gest_weeks              273 non-null    float64\n",
      " 2   gest_days               273 non-null    float64\n",
      " 3   age_mother              273 non-null    float64\n",
      " 4   gravidity               273 non-null    float64\n",
      " 5   parity                  273 non-null    float64\n",
      " 6   umbilical_cord_ph       273 non-null    float64\n",
      " 7   o2_demand               273 non-null    float64\n",
      " 8   breath_aid              273 non-null    float64\n",
      " 9   heart_rate              273 non-null    float64\n",
      " 10  respiration_rate        273 non-null    float64\n",
      " 11  rr_systolic             273 non-null    float64\n",
      " 12  rr_diastolic            273 non-null    float64\n",
      " 13  base_excess             273 non-null    float64\n",
      " 14  diagnosis_infection     273 non-null    float64\n",
      " 15  gestation_diabetes      273 non-null    float64\n",
      " 16  diabetes_type_1_2       273 non-null    float64\n",
      " 17  adiposity               273 non-null    float64\n",
      " 18  early_membrane_rupture  273 non-null    float64\n",
      " 19  membrane_rupture_hours  273 non-null    float64\n",
      " 20  early_labor_pain        273 non-null    float64\n",
      " 21  green_amniotic_liquor   273 non-null    float64\n",
      " 22  b_streptococcus         273 non-null    float64\n",
      " 23  fever_sub_partu         273 non-null    float64\n",
      " 24  antibiotics_prepartal   273 non-null    float64\n",
      " 25  SCP1                    273 non-null    float64\n",
      " 26  CRP1                    273 non-null    float64\n",
      " 27  IL61                    273 non-null    float64\n",
      " 28  WBC1                    273 non-null    float64\n",
      "dtypes: float64(29)\n",
      "memory usage: 64.0 KB\n",
      "\n",
      "Final DataFrame Head:\n",
      "   birth_weight  gest_weeks  gest_days  age_mother  gravidity  parity  \\\n",
      "1        2060.0        33.0        1.0        27.0        1.0     1.0   \n",
      "2        1900.0        36.0        1.0        40.0        3.0     2.0   \n",
      "3        2940.0        34.0        3.0        28.0        1.0     1.0   \n",
      "4        3580.0        38.0        3.0        32.0        2.0     2.0   \n",
      "6        2440.0        38.0        3.0        37.0        6.0     5.0   \n",
      "\n",
      "   umbilical_cord_ph  o2_demand  breath_aid  heart_rate  ...  \\\n",
      "1               7.33        1.0         1.0       150.0  ...   \n",
      "2               7.31        1.0         1.0       136.0  ...   \n",
      "3               7.39        0.0         0.0       124.0  ...   \n",
      "4               7.33        0.0         0.0       125.0  ...   \n",
      "6               7.38        0.0         0.0       138.0  ...   \n",
      "\n",
      "   membrane_rupture_hours  early_labor_pain  green_amniotic_liquor  \\\n",
      "1                     0.0               1.0                    0.0   \n",
      "2                     0.0               0.0                    0.0   \n",
      "3                    57.0               0.0                    0.0   \n",
      "4                     0.0               0.0                    0.0   \n",
      "6                     8.0               0.0                    0.0   \n",
      "\n",
      "   b_streptococcus  fever_sub_partu  antibiotics_prepartal    SCP1    CRP1  \\\n",
      "1              0.0              0.0                    1.0  0.7100  0.9998   \n",
      "2              2.0              0.0                    0.0  0.2998  0.9998   \n",
      "3              0.0              0.0                    0.0  0.6400  0.9998   \n",
      "4              0.0              0.0                    0.0  2.4200  1.0000   \n",
      "6              0.0              0.0                    0.0  7.0300  0.9998   \n",
      "\n",
      "      IL61       WBC1  \n",
      "1   9.9998  12.600000  \n",
      "2   9.9998  10.900000  \n",
      "3  15.5000  12.100000  \n",
      "4   9.9998  19.200001  \n",
      "6  97.5000  23.299999  \n",
      "\n",
      "[5 rows x 29 columns]\n"
     ]
    }
   ],
   "source": [
    "# drop where there are null values\n",
    "print(f\"Shape before dropping remaining NaNs: {df_subset.shape}\")\n",
    "# Drop any row that still has a missing value in any of the selected columns\n",
    "df_subset.dropna(inplace=True)\n",
    "print(f\"Shape after dropping remaining NaNs: {df_subset.shape}\")\n",
    "\n",
    "print(\"\\nFinal DataFrame Info:\")\n",
    "df_subset.info()\n",
    "print(\"\\nFinal DataFrame Head:\")\n",
    "print(df_subset.head())"
   ]
  },
  {
   "cell_type": "code",
   "execution_count": 39,
   "id": "3b5557d7",
   "metadata": {},
   "outputs": [
    {
     "name": "stdout",
     "output_type": "stream",
     "text": [
      "Created 'total_gest_days' column and dropped original columns.\n",
      "   total_gest_days\n",
      "1            232.0\n",
      "2            253.0\n",
      "3            241.0\n",
      "4            269.0\n",
      "6            269.0\n"
     ]
    }
   ],
   "source": [
    "# compute total gest days\n",
    "df_subset['total_gest_days'] = (df_subset['gest_weeks'] * 7) + df_subset['gest_days']\n",
    "# We can now drop the original columns if they are no longer needed\n",
    "df_subset.drop(columns=['gest_weeks', 'gest_days'], inplace=True)\n",
    "print(\"Created 'total_gest_days' column and dropped original columns.\")\n",
    "print(df_subset[['total_gest_days']].head())"
   ]
  },
  {
   "cell_type": "code",
   "execution_count": null,
   "id": "a072d27e",
   "metadata": {},
   "outputs": [],
   "source": [
    "# select features and labels \n",
    "features = ['birth_weight', 'total_gest_days',\n",
    "       'age_mother', 'gravidity', 'parity', 'umbilical_cord_ph',\n",
    "       'o2_demand', 'breath_aid', 'heart_rate',\n",
    "       'respiration_rate', 'rr_systolic', 'rr_diastolic', 'base_excess', 'gestation_diabetes',\n",
    "       'diabetes_type_1_2', 'adiposity', 'early_membrane_rupture',\n",
    "       'membrane_rupture_hours', 'early_labor_pain', 'green_amniotic_liquor',\n",
    "       'b_streptococcus', 'fever_sub_partu', 'antibiotics_prepartal', 'SCP1', 'CRP1', 'IL61', 'WBC1']\n",
    "label = ['diagnosis_infection']"
   ]
  },
  {
   "cell_type": "code",
   "execution_count": 44,
   "id": "ffa23ebb",
   "metadata": {},
   "outputs": [],
   "source": [
    "# visualize \n",
    "X_all = df_subset[features]\n",
    "y = df_subset[label]"
   ]
  },
  {
   "cell_type": "code",
   "execution_count": 45,
   "id": "e903667f",
   "metadata": {},
   "outputs": [],
   "source": [
    "# scale the data\n",
    "scaler = StandardScaler()\n",
    "scaler.fit(X_all)\n",
    "X_scaled = scaler.transform(X_all)"
   ]
  },
  {
   "cell_type": "code",
   "execution_count": 55,
   "id": "761ceb99",
   "metadata": {},
   "outputs": [
    {
     "data": {
      "application/vnd.plotly.v1+json": {
       "config": {
        "plotlyServerURL": "https://plot.ly"
       },
       "data": [
        {
         "hovertemplate": "x=%{x}<br>y=%{y}<br>color=%{marker.color}<extra></extra>",
         "legendgroup": "",
         "marker": {
          "color": [
           0,
           0,
           0,
           0,
           1,
           1,
           1,
           0,
           0,
           0,
           0,
           0,
           0,
           0,
           0,
           0,
           0,
           0,
           0,
           0,
           0,
           0,
           0,
           0,
           0,
           1,
           0,
           0,
           0,
           1,
           1,
           0,
           0,
           1,
           0,
           0,
           0,
           0,
           1,
           1,
           1,
           0,
           0,
           0,
           0,
           1,
           1,
           0,
           0,
           0,
           0,
           0,
           1,
           0,
           1,
           0,
           1,
           0,
           0,
           0,
           0,
           1,
           0,
           1,
           0,
           0,
           0,
           1,
           0,
           1,
           1,
           1,
           1,
           0,
           0,
           0,
           1,
           0,
           0,
           0,
           0,
           1,
           1,
           0,
           1,
           1,
           0,
           0,
           1,
           1,
           1,
           0,
           0,
           1,
           1,
           0,
           0,
           0,
           0,
           1,
           1,
           0,
           1,
           0,
           0,
           1,
           1,
           0,
           1,
           0,
           0,
           1,
           0,
           1,
           0,
           0,
           0,
           0,
           1,
           1,
           1,
           0,
           0,
           1,
           0,
           0,
           0,
           1,
           0,
           0,
           0,
           0,
           0,
           0,
           0,
           1,
           0,
           1,
           0,
           0,
           0,
           1,
           0,
           0,
           0,
           0,
           1,
           0,
           0,
           0,
           0,
           0,
           0,
           0,
           0,
           0,
           1,
           0,
           1,
           1,
           0,
           1,
           0,
           0,
           0,
           1,
           0,
           1,
           0,
           0,
           0,
           1,
           0,
           0,
           0,
           1,
           0,
           0,
           0,
           0,
           1,
           0,
           0,
           0,
           0,
           0,
           1,
           1,
           1,
           0,
           0,
           0,
           1,
           0,
           0,
           1,
           0,
           1,
           0,
           0,
           0,
           0,
           0,
           1,
           0,
           0,
           0,
           0,
           0,
           0,
           1,
           0,
           0,
           0,
           1,
           0,
           0,
           0,
           1,
           1,
           0,
           0,
           0,
           0,
           0,
           0,
           0,
           0,
           0,
           0,
           1,
           1,
           1,
           0,
           0,
           0,
           0,
           0,
           1,
           1,
           0,
           1,
           0,
           0,
           0,
           1,
           0,
           0,
           0,
           0,
           0,
           1,
           0,
           1,
           0,
           0,
           0,
           0,
           0,
           0,
           0,
           0,
           0,
           0,
           0,
           0,
           0,
           0,
           1,
           0,
           1,
           1,
           0
          ],
          "coloraxis": "coloraxis",
          "symbol": "circle"
         },
         "mode": "markers",
         "name": "",
         "orientation": "v",
         "showlegend": false,
         "type": "scatter",
         "x": [
          -6.929566383361816,
          -7.884049415588379,
          3.4285507202148438,
          8.706090927124023,
          -2.4592905044555664,
          -1.7650402784347534,
          0.7809864282608032,
          -3.352792978286743,
          5.531680107116699,
          4.7729058265686035,
          0.24811410903930664,
          3.443338394165039,
          -8.996650695800781,
          -10.33176326751709,
          9.270251274108887,
          4.338474273681641,
          -8.998274803161621,
          -10.095503807067871,
          6.919189929962158,
          9.354105949401855,
          -0.9036843180656433,
          -9.81343936920166,
          -5.697150230407715,
          8.759989738464355,
          4.3962626457214355,
          4.630328178405762,
          1.4417200088500977,
          -10.888331413269043,
          -10.623226165771484,
          4.864859104156494,
          8.429109573364258,
          5.130439281463623,
          9.233461380004883,
          4.305259704589844,
          7.428038597106934,
          6.368494987487793,
          5.637301445007324,
          2.5792622566223145,
          5.178150177001953,
          -10.64715576171875,
          -10.147493362426758,
          1.5301225185394287,
          -12.341492652893066,
          -11.255809783935547,
          -8.323186874389648,
          8.15719985961914,
          1.559255838394165,
          7.020446300506592,
          8.40258502960205,
          2.079667568206787,
          7.207889080047607,
          9.265156745910645,
          4.436429977416992,
          -8.176959037780762,
          6.735603332519531,
          8.023615837097168,
          4.200294017791748,
          0.33680975437164307,
          2.827644109725952,
          5.2429633140563965,
          -1.8784652948379517,
          5.487946510314941,
          0.9501941204071045,
          -0.7604308724403381,
          -1.551112174987793,
          5.2454304695129395,
          6.796824932098389,
          3.8783957958221436,
          8.486209869384766,
          6.114886283874512,
          8.24240493774414,
          -12.579967498779297,
          7.981204509735107,
          -3.5521857738494873,
          8.048446655273438,
          -4.230367183685303,
          -9.7177095413208,
          -6.787648677825928,
          -3.7530694007873535,
          9.007811546325684,
          4.582016468048096,
          -8.859440803527832,
          1.23466956615448,
          4.100854396820068,
          2.355706214904785,
          7.446845054626465,
          -5.0199294090271,
          -3.617419719696045,
          -11.13348388671875,
          1.1051832437515259,
          -1.0036821365356445,
          -8.500086784362793,
          9.381218910217285,
          0.8645145893096924,
          7.0120439529418945,
          -12.213956832885742,
          -4.003064155578613,
          -5.496499538421631,
          -5.147086143493652,
          6.802919864654541,
          -0.9415183067321777,
          4.787147521972656,
          3.978283643722534,
          8.601899147033691,
          8.020625114440918,
          5.444942951202393,
          -7.319619178771973,
          5.0644941329956055,
          -6.419618129730225,
          7.700149059295654,
          7.054264068603516,
          -12.3833646774292,
          1.5808156728744507,
          7.45682954788208,
          -7.041344165802002,
          8.893143653869629,
          7.9628214836120605,
          -3.092296600341797,
          4.258115768432617,
          -8.095958709716797,
          6.032298564910889,
          2.7702503204345703,
          2.0860798358917236,
          8.703206062316895,
          2.5005009174346924,
          -7.464258670806885,
          8.432093620300293,
          2.956753969192505,
          8.116661071777344,
          -10.374346733093262,
          -9.052769660949707,
          -7.214928150177002,
          3.1882684230804443,
          7.997588634490967,
          3.7822344303131104,
          -0.9798408150672913,
          3.542649269104004,
          -9.530345916748047,
          1.5142455101013184,
          4.172202110290527,
          1.6790693998336792,
          -12.704092979431152,
          9.551313400268555,
          6.376543998718262,
          3.568251609802246,
          8.039142608642578,
          4.826667785644531,
          2.762923240661621,
          -10.819548606872559,
          -11.975122451782227,
          5.922339916229248,
          7.326543807983398,
          0.0631638690829277,
          8.798830032348633,
          8.487893104553223,
          8.511499404907227,
          5.604728698730469,
          -2.6158382892608643,
          5.507643699645996,
          0.7480963468551636,
          7.385870933532715,
          4.920496463775635,
          8.263206481933594,
          6.373434066772461,
          6.121336460113525,
          3.3676631450653076,
          8.415241241455078,
          -1.0295156240463257,
          7.953271865844727,
          4.4852986335754395,
          7.444862365722656,
          0.7908002138137817,
          3.7545106410980225,
          6.561347961425781,
          2.1658928394317627,
          8.323358535766602,
          -2.449791193008423,
          4.394655227661133,
          4.5487446784973145,
          6.45468807220459,
          0.8216514587402344,
          6.5390753746032715,
          2.8485419750213623,
          -10.509543418884277,
          -8.636178016662598,
          -8.60030460357666,
          -6.037922382354736,
          0.34216636419296265,
          4.643486976623535,
          -4.652134418487549,
          1.1079803705215454,
          -4.464694976806641,
          4.933311462402344,
          0.7736322283744812,
          0.025480404496192932,
          0.3412072956562042,
          -8.486687660217285,
          -2.0902693271636963,
          -0.3254857361316681,
          8.996976852416992,
          6.932290077209473,
          9.101724624633789,
          -0.610624372959137,
          -1.319130778312683,
          4.465925216674805,
          -9.085027694702148,
          -6.050869464874268,
          9.298470497131348,
          -4.7791266441345215,
          8.786018371582031,
          0.6108658313751221,
          7.127289295196533,
          2.734027147293091,
          -3.1577436923980713,
          3.4780004024505615,
          -11.679813385009766,
          -11.4622802734375,
          5.539357662200928,
          1.0162405967712402,
          8.809823036193848,
          -0.25676611065864563,
          -9.654356002807617,
          -2.541712760925293,
          8.989498138427734,
          -10.823945045471191,
          -7.365380764007568,
          7.615458965301514,
          9.376266479492188,
          2.063697576522827,
          -1.639335036277771,
          3.878819704055786,
          -12.388867378234863,
          -11.913066864013672,
          9.463382720947266,
          7.543218612670898,
          2.109621524810791,
          -4.019557952880859,
          -8.00062084197998,
          2.8175947666168213,
          4.981431484222412,
          -11.962370872497559,
          0.3450236916542053,
          -1.8432847261428833,
          -3.217587471008301,
          -2.3898439407348633,
          -9.782751083374023,
          0.6273910999298096,
          -11.0480375289917,
          4.135097980499268,
          7.866997241973877,
          -0.7568445205688477,
          5.669689178466797,
          9.0662202835083,
          4.329189300537109,
          1.5918124914169312,
          -4.491170406341553,
          -7.709651947021484,
          -5.779841899871826,
          0.6667870879173279,
          -4.784086227416992,
          -7.883535861968994,
          -6.676025867462158,
          -4.033030986785889,
          6.610427379608154,
          1.038264513015747,
          5.108212947845459,
          -11.703157424926758,
          8.146212577819824,
          7.689727306365967,
          7.969866752624512,
          -11.366167068481445,
          -9.41202163696289,
          -8.358750343322754
         ],
         "xaxis": "x",
         "y": [
          -19.318130493164062,
          -22.321727752685547,
          -2.953313112258911,
          15.89730167388916,
          -12.351029396057129,
          -6.919589042663574,
          16.587722778320312,
          -12.315885543823242,
          1.9410988092422485,
          0.6886085867881775,
          -7.8309736251831055,
          -0.36189907789230347,
          -22.075218200683594,
          -25.78297233581543,
          11.68479061126709,
          1.2468703985214233,
          -23.17442512512207,
          -25.695466995239258,
          17.002891540527344,
          6.432208061218262,
          -9.473102569580078,
          -24.762720108032227,
          -17.656660079956055,
          15.12477970123291,
          24.725637435913086,
          24.077795028686523,
          28.763765335083008,
          -27.23235321044922,
          -28.191455841064453,
          10.665027618408203,
          14.251494407653809,
          23.949913024902344,
          16.885568618774414,
          13.490925788879395,
          4.242211818695068,
          18.936655044555664,
          0.8630884289741516,
          -3.3823049068450928,
          20.854488372802734,
          -24.35015296936035,
          -22.614511489868164,
          27.793508529663086,
          -29.165498733520508,
          -27.60466194152832,
          -22.851882934570312,
          17.405534744262695,
          26.83612060546875,
          4.255524635314941,
          6.969528675079346,
          28.159849166870117,
          1.4264532327651978,
          14.462174415588379,
          13.83796501159668,
          -19.63658332824707,
          16.780710220336914,
          7.812257766723633,
          21.104686737060547,
          -7.448760032653809,
          -3.2135422229766846,
          0.10187187045812607,
          -8.303055763244629,
          13.636787414550781,
          -6.155548572540283,
          -6.389883518218994,
          -10.02481746673584,
          0.7893441915512085,
          21.74993896484375,
          24.7803955078125,
          7.692039489746094,
          22.520034790039062,
          18.583005905151367,
          -30.684314727783203,
          16.497127532958984,
          -14.060455322265625,
          4.99085807800293,
          -14.702621459960938,
          -30.481334686279297,
          -20.14759063720703,
          -12.991480827331543,
          7.8309431076049805,
          25.41223907470703,
          -18.58623504638672,
          27.842422485351562,
          25.882400512695312,
          23.233613967895508,
          20.556943893432617,
          -16.03879165649414,
          -12.706036567687988,
          -30.458396911621094,
          -1.429334282875061,
          13.19148063659668,
          -21.4865779876709,
          15.259860038757324,
          16.647884368896484,
          18.384384155273438,
          -28.870532989501953,
          -14.93018913269043,
          -16.060829162597656,
          -16.355667114257812,
          13.177987098693848,
          13.338034629821777,
          4.748511791229248,
          5.38451623916626,
          8.483577728271484,
          11.636794090270996,
          24.18264389038086,
          -17.727828979492188,
          24.660303115844727,
          -18.789567947387695,
          4.455291748046875,
          20.32626724243164,
          -29.854673385620117,
          -3.9880430698394775,
          0.7104144096374512,
          -20.028959274291992,
          11.253434181213379,
          8.189516067504883,
          -13.082655906677246,
          25.17499351501465,
          -20.777204513549805,
          22.310571670532227,
          26.90062141418457,
          -3.085994243621826,
          10.766731262207031,
          -3.760291814804077,
          -20.866167068481445,
          8.828178405761719,
          25.154033660888672,
          18.25851821899414,
          -26.580942153930664,
          -23.0219669342041,
          -21.041854858398438,
          -1.4587626457214355,
          6.597865581512451,
          -1.4023720026016235,
          13.257816314697266,
          26.118398666381836,
          -24.07710838317871,
          -4.7224555015563965,
          4.770864486694336,
          -4.4687604904174805,
          -30.314638137817383,
          10.8058443069458,
          2.6135692596435547,
          -2.412126064300537,
          19.617549896240234,
          21.43109893798828,
          -2.7924208641052246,
          -29.952194213867188,
          -29.3795223236084,
          2.5484132766723633,
          6.019103050231934,
          -6.743250846862793,
          10.890352249145508,
          17.37195587158203,
          5.992251873016357,
          1.7524155378341675,
          -11.41710090637207,
          4.449053764343262,
          16.34687614440918,
          19.655902862548828,
          9.6956205368042,
          17.67279815673828,
          2.9768548011779785,
          10.504739761352539,
          21.120586395263672,
          13.891372680664062,
          -8.918753623962402,
          6.129875183105469,
          4.8844685554504395,
          4.948030471801758,
          -0.8482322096824646,
          25.508594512939453,
          2.4612114429473877,
          27.282161712646484,
          14.675536155700684,
          -11.043347358703613,
          -0.3269300162792206,
          0.19035011529922485,
          21.338476181030273,
          16.53290367126465,
          21.419620513916016,
          26.656635284423828,
          -26.854480743408203,
          -21.887283325195312,
          -22.25624656677246,
          -17.434507369995117,
          1.3618041276931763,
          13.56613540649414,
          -15.756150245666504,
          -5.865882396697998,
          -13.774847984313965,
          25.0830078125,
          -5.737394332885742,
          -7.276365280151367,
          1.250791072845459,
          -23.42197608947754,
          -10.58338451385498,
          -6.5375847816467285,
          14.398710250854492,
          5.172215461730957,
          13.408649444580078,
          -6.993433952331543,
          -12.129313468933105,
          -0.9431512951850891,
          -24.018291473388672,
          -18.075868606567383,
          9.86862850189209,
          -15.191408157348633,
          10.02387809753418,
          -6.836881637573242,
          21.05789566040039,
          -2.3909294605255127,
          -13.303023338317871,
          21.151315689086914,
          -29.15761375427246,
          -28.5018310546875,
          23.171913146972656,
          28.77190589904785,
          9.107600212097168,
          -7.793572425842285,
          -24.938241958618164,
          -15.44424057006836,
          15.151775360107422,
          -26.321243286132812,
          -21.289691925048828,
          17.754833221435547,
          7.78240442276001,
          27.728134155273438,
          -9.317357063293457,
          12.740479469299316,
          -30.30668067932129,
          -30.917524337768555,
          8.456995010375977,
          19.223623275756836,
          28.168941497802734,
          -13.463846206665039,
          -22.21816635131836,
          25.709854125976562,
          2.290454626083374,
          -28.50110626220703,
          -4.038422584533691,
          -10.098249435424805,
          -14.570883750915527,
          -12.704545021057129,
          -30.456809997558594,
          -4.580790996551514,
          -26.700183868408203,
          -1.0877230167388916,
          18.916259765625,
          -8.805397033691406,
          20.79226303100586,
          8.588967323303223,
          24.132450103759766,
          28.089292526245117,
          -17.07938003540039,
          -20.27739906311035,
          -17.033065795898438,
          -7.197257995605469,
          -14.575423240661621,
          -21.017141342163086,
          -19.445858001708984,
          -14.06737232208252,
          21.007427215576172,
          29.115449905395508,
          3.660982847213745,
          -27.800209045410156,
          16.227991104125977,
          12.630453109741211,
          5.949996471405029,
          -28.039716720581055,
          -24.845842361450195,
          -20.06613540649414
         ],
         "yaxis": "y"
        }
       ],
       "layout": {
        "coloraxis": {
         "colorbar": {
          "title": {
           "text": "color"
          }
         },
         "colorscale": [
          [
           0,
           "#0d0887"
          ],
          [
           0.1111111111111111,
           "#46039f"
          ],
          [
           0.2222222222222222,
           "#7201a8"
          ],
          [
           0.3333333333333333,
           "#9c179e"
          ],
          [
           0.4444444444444444,
           "#bd3786"
          ],
          [
           0.5555555555555556,
           "#d8576b"
          ],
          [
           0.6666666666666666,
           "#ed7953"
          ],
          [
           0.7777777777777778,
           "#fb9f3a"
          ],
          [
           0.8888888888888888,
           "#fdca26"
          ],
          [
           1,
           "#f0f921"
          ]
         ]
        },
        "legend": {
         "tracegroupgap": 0
        },
        "margin": {
         "t": 60
        },
        "template": {
         "data": {
          "bar": [
           {
            "error_x": {
             "color": "#2a3f5f"
            },
            "error_y": {
             "color": "#2a3f5f"
            },
            "marker": {
             "line": {
              "color": "#E5ECF6",
              "width": 0.5
             },
             "pattern": {
              "fillmode": "overlay",
              "size": 10,
              "solidity": 0.2
             }
            },
            "type": "bar"
           }
          ],
          "barpolar": [
           {
            "marker": {
             "line": {
              "color": "#E5ECF6",
              "width": 0.5
             },
             "pattern": {
              "fillmode": "overlay",
              "size": 10,
              "solidity": 0.2
             }
            },
            "type": "barpolar"
           }
          ],
          "carpet": [
           {
            "aaxis": {
             "endlinecolor": "#2a3f5f",
             "gridcolor": "white",
             "linecolor": "white",
             "minorgridcolor": "white",
             "startlinecolor": "#2a3f5f"
            },
            "baxis": {
             "endlinecolor": "#2a3f5f",
             "gridcolor": "white",
             "linecolor": "white",
             "minorgridcolor": "white",
             "startlinecolor": "#2a3f5f"
            },
            "type": "carpet"
           }
          ],
          "choropleth": [
           {
            "colorbar": {
             "outlinewidth": 0,
             "ticks": ""
            },
            "type": "choropleth"
           }
          ],
          "contour": [
           {
            "colorbar": {
             "outlinewidth": 0,
             "ticks": ""
            },
            "colorscale": [
             [
              0,
              "#0d0887"
             ],
             [
              0.1111111111111111,
              "#46039f"
             ],
             [
              0.2222222222222222,
              "#7201a8"
             ],
             [
              0.3333333333333333,
              "#9c179e"
             ],
             [
              0.4444444444444444,
              "#bd3786"
             ],
             [
              0.5555555555555556,
              "#d8576b"
             ],
             [
              0.6666666666666666,
              "#ed7953"
             ],
             [
              0.7777777777777778,
              "#fb9f3a"
             ],
             [
              0.8888888888888888,
              "#fdca26"
             ],
             [
              1,
              "#f0f921"
             ]
            ],
            "type": "contour"
           }
          ],
          "contourcarpet": [
           {
            "colorbar": {
             "outlinewidth": 0,
             "ticks": ""
            },
            "type": "contourcarpet"
           }
          ],
          "heatmap": [
           {
            "colorbar": {
             "outlinewidth": 0,
             "ticks": ""
            },
            "colorscale": [
             [
              0,
              "#0d0887"
             ],
             [
              0.1111111111111111,
              "#46039f"
             ],
             [
              0.2222222222222222,
              "#7201a8"
             ],
             [
              0.3333333333333333,
              "#9c179e"
             ],
             [
              0.4444444444444444,
              "#bd3786"
             ],
             [
              0.5555555555555556,
              "#d8576b"
             ],
             [
              0.6666666666666666,
              "#ed7953"
             ],
             [
              0.7777777777777778,
              "#fb9f3a"
             ],
             [
              0.8888888888888888,
              "#fdca26"
             ],
             [
              1,
              "#f0f921"
             ]
            ],
            "type": "heatmap"
           }
          ],
          "heatmapgl": [
           {
            "colorbar": {
             "outlinewidth": 0,
             "ticks": ""
            },
            "colorscale": [
             [
              0,
              "#0d0887"
             ],
             [
              0.1111111111111111,
              "#46039f"
             ],
             [
              0.2222222222222222,
              "#7201a8"
             ],
             [
              0.3333333333333333,
              "#9c179e"
             ],
             [
              0.4444444444444444,
              "#bd3786"
             ],
             [
              0.5555555555555556,
              "#d8576b"
             ],
             [
              0.6666666666666666,
              "#ed7953"
             ],
             [
              0.7777777777777778,
              "#fb9f3a"
             ],
             [
              0.8888888888888888,
              "#fdca26"
             ],
             [
              1,
              "#f0f921"
             ]
            ],
            "type": "heatmapgl"
           }
          ],
          "histogram": [
           {
            "marker": {
             "pattern": {
              "fillmode": "overlay",
              "size": 10,
              "solidity": 0.2
             }
            },
            "type": "histogram"
           }
          ],
          "histogram2d": [
           {
            "colorbar": {
             "outlinewidth": 0,
             "ticks": ""
            },
            "colorscale": [
             [
              0,
              "#0d0887"
             ],
             [
              0.1111111111111111,
              "#46039f"
             ],
             [
              0.2222222222222222,
              "#7201a8"
             ],
             [
              0.3333333333333333,
              "#9c179e"
             ],
             [
              0.4444444444444444,
              "#bd3786"
             ],
             [
              0.5555555555555556,
              "#d8576b"
             ],
             [
              0.6666666666666666,
              "#ed7953"
             ],
             [
              0.7777777777777778,
              "#fb9f3a"
             ],
             [
              0.8888888888888888,
              "#fdca26"
             ],
             [
              1,
              "#f0f921"
             ]
            ],
            "type": "histogram2d"
           }
          ],
          "histogram2dcontour": [
           {
            "colorbar": {
             "outlinewidth": 0,
             "ticks": ""
            },
            "colorscale": [
             [
              0,
              "#0d0887"
             ],
             [
              0.1111111111111111,
              "#46039f"
             ],
             [
              0.2222222222222222,
              "#7201a8"
             ],
             [
              0.3333333333333333,
              "#9c179e"
             ],
             [
              0.4444444444444444,
              "#bd3786"
             ],
             [
              0.5555555555555556,
              "#d8576b"
             ],
             [
              0.6666666666666666,
              "#ed7953"
             ],
             [
              0.7777777777777778,
              "#fb9f3a"
             ],
             [
              0.8888888888888888,
              "#fdca26"
             ],
             [
              1,
              "#f0f921"
             ]
            ],
            "type": "histogram2dcontour"
           }
          ],
          "mesh3d": [
           {
            "colorbar": {
             "outlinewidth": 0,
             "ticks": ""
            },
            "type": "mesh3d"
           }
          ],
          "parcoords": [
           {
            "line": {
             "colorbar": {
              "outlinewidth": 0,
              "ticks": ""
             }
            },
            "type": "parcoords"
           }
          ],
          "pie": [
           {
            "automargin": true,
            "type": "pie"
           }
          ],
          "scatter": [
           {
            "fillpattern": {
             "fillmode": "overlay",
             "size": 10,
             "solidity": 0.2
            },
            "type": "scatter"
           }
          ],
          "scatter3d": [
           {
            "line": {
             "colorbar": {
              "outlinewidth": 0,
              "ticks": ""
             }
            },
            "marker": {
             "colorbar": {
              "outlinewidth": 0,
              "ticks": ""
             }
            },
            "type": "scatter3d"
           }
          ],
          "scattercarpet": [
           {
            "marker": {
             "colorbar": {
              "outlinewidth": 0,
              "ticks": ""
             }
            },
            "type": "scattercarpet"
           }
          ],
          "scattergeo": [
           {
            "marker": {
             "colorbar": {
              "outlinewidth": 0,
              "ticks": ""
             }
            },
            "type": "scattergeo"
           }
          ],
          "scattergl": [
           {
            "marker": {
             "colorbar": {
              "outlinewidth": 0,
              "ticks": ""
             }
            },
            "type": "scattergl"
           }
          ],
          "scattermapbox": [
           {
            "marker": {
             "colorbar": {
              "outlinewidth": 0,
              "ticks": ""
             }
            },
            "type": "scattermapbox"
           }
          ],
          "scatterpolar": [
           {
            "marker": {
             "colorbar": {
              "outlinewidth": 0,
              "ticks": ""
             }
            },
            "type": "scatterpolar"
           }
          ],
          "scatterpolargl": [
           {
            "marker": {
             "colorbar": {
              "outlinewidth": 0,
              "ticks": ""
             }
            },
            "type": "scatterpolargl"
           }
          ],
          "scatterternary": [
           {
            "marker": {
             "colorbar": {
              "outlinewidth": 0,
              "ticks": ""
             }
            },
            "type": "scatterternary"
           }
          ],
          "surface": [
           {
            "colorbar": {
             "outlinewidth": 0,
             "ticks": ""
            },
            "colorscale": [
             [
              0,
              "#0d0887"
             ],
             [
              0.1111111111111111,
              "#46039f"
             ],
             [
              0.2222222222222222,
              "#7201a8"
             ],
             [
              0.3333333333333333,
              "#9c179e"
             ],
             [
              0.4444444444444444,
              "#bd3786"
             ],
             [
              0.5555555555555556,
              "#d8576b"
             ],
             [
              0.6666666666666666,
              "#ed7953"
             ],
             [
              0.7777777777777778,
              "#fb9f3a"
             ],
             [
              0.8888888888888888,
              "#fdca26"
             ],
             [
              1,
              "#f0f921"
             ]
            ],
            "type": "surface"
           }
          ],
          "table": [
           {
            "cells": {
             "fill": {
              "color": "#EBF0F8"
             },
             "line": {
              "color": "white"
             }
            },
            "header": {
             "fill": {
              "color": "#C8D4E3"
             },
             "line": {
              "color": "white"
             }
            },
            "type": "table"
           }
          ]
         },
         "layout": {
          "annotationdefaults": {
           "arrowcolor": "#2a3f5f",
           "arrowhead": 0,
           "arrowwidth": 1
          },
          "autotypenumbers": "strict",
          "coloraxis": {
           "colorbar": {
            "outlinewidth": 0,
            "ticks": ""
           }
          },
          "colorscale": {
           "diverging": [
            [
             0,
             "#8e0152"
            ],
            [
             0.1,
             "#c51b7d"
            ],
            [
             0.2,
             "#de77ae"
            ],
            [
             0.3,
             "#f1b6da"
            ],
            [
             0.4,
             "#fde0ef"
            ],
            [
             0.5,
             "#f7f7f7"
            ],
            [
             0.6,
             "#e6f5d0"
            ],
            [
             0.7,
             "#b8e186"
            ],
            [
             0.8,
             "#7fbc41"
            ],
            [
             0.9,
             "#4d9221"
            ],
            [
             1,
             "#276419"
            ]
           ],
           "sequential": [
            [
             0,
             "#0d0887"
            ],
            [
             0.1111111111111111,
             "#46039f"
            ],
            [
             0.2222222222222222,
             "#7201a8"
            ],
            [
             0.3333333333333333,
             "#9c179e"
            ],
            [
             0.4444444444444444,
             "#bd3786"
            ],
            [
             0.5555555555555556,
             "#d8576b"
            ],
            [
             0.6666666666666666,
             "#ed7953"
            ],
            [
             0.7777777777777778,
             "#fb9f3a"
            ],
            [
             0.8888888888888888,
             "#fdca26"
            ],
            [
             1,
             "#f0f921"
            ]
           ],
           "sequentialminus": [
            [
             0,
             "#0d0887"
            ],
            [
             0.1111111111111111,
             "#46039f"
            ],
            [
             0.2222222222222222,
             "#7201a8"
            ],
            [
             0.3333333333333333,
             "#9c179e"
            ],
            [
             0.4444444444444444,
             "#bd3786"
            ],
            [
             0.5555555555555556,
             "#d8576b"
            ],
            [
             0.6666666666666666,
             "#ed7953"
            ],
            [
             0.7777777777777778,
             "#fb9f3a"
            ],
            [
             0.8888888888888888,
             "#fdca26"
            ],
            [
             1,
             "#f0f921"
            ]
           ]
          },
          "colorway": [
           "#636efa",
           "#EF553B",
           "#00cc96",
           "#ab63fa",
           "#FFA15A",
           "#19d3f3",
           "#FF6692",
           "#B6E880",
           "#FF97FF",
           "#FECB52"
          ],
          "font": {
           "color": "#2a3f5f"
          },
          "geo": {
           "bgcolor": "white",
           "lakecolor": "white",
           "landcolor": "#E5ECF6",
           "showlakes": true,
           "showland": true,
           "subunitcolor": "white"
          },
          "hoverlabel": {
           "align": "left"
          },
          "hovermode": "closest",
          "mapbox": {
           "style": "light"
          },
          "paper_bgcolor": "white",
          "plot_bgcolor": "#E5ECF6",
          "polar": {
           "angularaxis": {
            "gridcolor": "white",
            "linecolor": "white",
            "ticks": ""
           },
           "bgcolor": "#E5ECF6",
           "radialaxis": {
            "gridcolor": "white",
            "linecolor": "white",
            "ticks": ""
           }
          },
          "scene": {
           "xaxis": {
            "backgroundcolor": "#E5ECF6",
            "gridcolor": "white",
            "gridwidth": 2,
            "linecolor": "white",
            "showbackground": true,
            "ticks": "",
            "zerolinecolor": "white"
           },
           "yaxis": {
            "backgroundcolor": "#E5ECF6",
            "gridcolor": "white",
            "gridwidth": 2,
            "linecolor": "white",
            "showbackground": true,
            "ticks": "",
            "zerolinecolor": "white"
           },
           "zaxis": {
            "backgroundcolor": "#E5ECF6",
            "gridcolor": "white",
            "gridwidth": 2,
            "linecolor": "white",
            "showbackground": true,
            "ticks": "",
            "zerolinecolor": "white"
           }
          },
          "shapedefaults": {
           "line": {
            "color": "#2a3f5f"
           }
          },
          "ternary": {
           "aaxis": {
            "gridcolor": "white",
            "linecolor": "white",
            "ticks": ""
           },
           "baxis": {
            "gridcolor": "white",
            "linecolor": "white",
            "ticks": ""
           },
           "bgcolor": "#E5ECF6",
           "caxis": {
            "gridcolor": "white",
            "linecolor": "white",
            "ticks": ""
           }
          },
          "title": {
           "x": 0.05
          },
          "xaxis": {
           "automargin": true,
           "gridcolor": "white",
           "linecolor": "white",
           "ticks": "",
           "title": {
            "standoff": 15
           },
           "zerolinecolor": "white",
           "zerolinewidth": 2
          },
          "yaxis": {
           "automargin": true,
           "gridcolor": "white",
           "linecolor": "white",
           "ticks": "",
           "title": {
            "standoff": 15
           },
           "zerolinecolor": "white",
           "zerolinewidth": 2
          }
         }
        },
        "title": {
         "text": "t-SNE visualization of Custom Classification dataset"
        },
        "xaxis": {
         "anchor": "y",
         "domain": [
          0,
          1
         ],
         "title": {
          "text": "First t-SNE"
         }
        },
        "yaxis": {
         "anchor": "x",
         "domain": [
          0,
          1
         ],
         "title": {
          "text": "Second t-SNE"
         }
        }
       }
      }
     },
     "metadata": {},
     "output_type": "display_data"
    }
   ],
   "source": [
    "import plotly.express as px\n",
    "tsne = TSNE(n_components=2, random_state=42, perplexity=25)\n",
    "X_tsne = tsne.fit_transform(X_all)\n",
    "tsne.kl_divergence_\n",
    "\n",
    "\n",
    "fig = px.scatter(x=X_tsne[:, 0], y=X_tsne[:, 1], color=y)\n",
    "fig.update_layout(\n",
    "    title=\"t-SNE visualization of Custom Classification dataset\",\n",
    "    xaxis_title=\"First t-SNE\",\n",
    "    yaxis_title=\"Second t-SNE\",\n",
    ")\n",
    "fig.show()"
   ]
  },
  {
   "cell_type": "code",
   "execution_count": 56,
   "id": "95a1f1a3",
   "metadata": {},
   "outputs": [],
   "source": [
    "# make train and test split and save\n",
    "from sklearn.model_selection import train_test_split\n",
    "\n",
    "X_train, X_temp, y_train, y_temp = train_test_split(\n",
    "    X_all, \n",
    "    y, \n",
    "    test_size=0.3,          \n",
    "    random_state=42,  \n",
    "    stratify=y\n",
    ")"
   ]
  },
  {
   "cell_type": "code",
   "execution_count": 57,
   "id": "43e7d88f",
   "metadata": {},
   "outputs": [],
   "source": [
    "X_val, X_test, y_val, y_test = train_test_split(\n",
    "    X_temp, \n",
    "    y_temp, \n",
    "    test_size=0.66,          \n",
    "    random_state=42,        \n",
    "    stratify=y_temp \n",
    ")\n"
   ]
  },
  {
   "cell_type": "code",
   "execution_count": 58,
   "id": "e0f4a0c5",
   "metadata": {},
   "outputs": [
    {
     "name": "stdout",
     "output_type": "stream",
     "text": [
      "Original dataset shape: (273, 27)\n",
      "------------------------------\n",
      "Training set shape: (191, 27) features, (191,) labels\n",
      "Validation set shape: (27, 27) features, (27,) labels\n",
      "Test set shape: (55, 27) features, (55,) labels\n"
     ]
    }
   ],
   "source": [
    "print(f\"Original dataset shape: {X_all.shape}\")\n",
    "print(\"-\" * 30)\n",
    "print(f\"Training set shape: {X_train.shape} features, {y_train.shape} labels\")\n",
    "print(f\"Validation set shape: {X_val.shape} features, {y_val.shape} labels\")\n",
    "print(f\"Test set shape: {X_test.shape} features, {y_test.shape} labels\")"
   ]
  },
  {
   "cell_type": "code",
   "execution_count": 59,
   "id": "c1716711",
   "metadata": {},
   "outputs": [],
   "source": [
    "train_set = pd.concat([X_train, y_train], axis=1)\n",
    "validation_set = pd.concat([X_val, y_val], axis=1)\n",
    "test_set = pd.concat([X_test, y_test], axis=1)\n",
    "\n",
    "# Save to CSV files\n",
    "# index=False prevents pandas from writing the dataframe index as a column\n",
    "train_set.to_csv('../data/cleaned_train_val_test/train_set.csv', index=False)\n",
    "validation_set.to_csv('../data/cleaned_train_val_test/validation_set.csv', index=False)\n",
    "test_set.to_csv('../data/cleaned_train_val_test/test_set.csv', index=False)\n"
   ]
  },
  {
   "cell_type": "code",
   "execution_count": null,
   "id": "fb82a2f9",
   "metadata": {},
   "outputs": [],
   "source": []
  },
  {
   "cell_type": "code",
   "execution_count": null,
   "id": "2bb6951a",
   "metadata": {},
   "outputs": [],
   "source": []
  }
 ],
 "metadata": {
  "kernelspec": {
   "display_name": "base",
   "language": "python",
   "name": "python3"
  },
  "language_info": {
   "codemirror_mode": {
    "name": "ipython",
    "version": 3
   },
   "file_extension": ".py",
   "mimetype": "text/x-python",
   "name": "python",
   "nbconvert_exporter": "python",
   "pygments_lexer": "ipython3",
   "version": "3.13.5"
  }
 },
 "nbformat": 4,
 "nbformat_minor": 5
}
