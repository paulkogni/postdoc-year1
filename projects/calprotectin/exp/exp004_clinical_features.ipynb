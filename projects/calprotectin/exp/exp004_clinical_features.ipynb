{
 "cells": [
  {
   "cell_type": "code",
   "execution_count": 133,
   "id": "8c8aec26",
   "metadata": {},
   "outputs": [],
   "source": [
    "import pandas as pd\n",
    "from sklearn.preprocessing import StandardScaler, OneHotEncoder\n",
    "from sklearn.linear_model import LogisticRegression\n",
    "from sklearn.compose import ColumnTransformer\n",
    "from sklearn.pipeline import Pipeline\n",
    "from sklearn.metrics import classification_report, roc_auc_score, ConfusionMatrixDisplay\n",
    "import matplotlib.pyplot as plt\n",
    "from xgboost import XGBClassifier"
   ]
  },
  {
   "cell_type": "code",
   "execution_count": 134,
   "id": "77068a65",
   "metadata": {},
   "outputs": [],
   "source": [
    "path_csv = '/home/paul/workspace/postdoc-year1/projects/calprotectin/data/Sepsis_Validation_FINAL DATASET_110925_SH.xlsx'\n",
    "df = pd.read_excel(path_csv)\n",
    "# drop the one NaN from IL6\n",
    "# df_cleaned = df.dropna(subset=['IL6_value_1', 'fever_sub_partu', 'b_streptococcus']).copy()\n",
    "# df_cleaned.shape"
   ]
  },
  {
   "cell_type": "code",
   "execution_count": 135,
   "id": "5774250a",
   "metadata": {},
   "outputs": [
    {
     "data": {
      "text/plain": [
       "(355, 58)"
      ]
     },
     "execution_count": 135,
     "metadata": {},
     "output_type": "execute_result"
    }
   ],
   "source": [
    "df.shape"
   ]
  },
  {
   "cell_type": "code",
   "execution_count": 136,
   "id": "a8be88f9",
   "metadata": {},
   "outputs": [],
   "source": [
    "keys = ['birth_weight', 'gest_weeks', 'age_mother', 'gravidity', 'parity', 'birth_mode', 'umbilical_cord_ph',\n",
    "       'capillary_time', 'o2_demand', 'breath_aid', 'heart_rate',\n",
    "       'respiration_rate', 'rr_systolic', 'rr_diastolic', 'base_excess',\n",
    "       'ph_value', 'antibiotic_therapy', 'antibiotic_therapy_duration',\n",
    "       'diagnosis_infection', 'result_blood_culture', 'gestation_diabetes',\n",
    "       'diabetes_type_1_2', 'adiposity', 'early_membrane_rupture',\n",
    "       'membrane_rupture_hours', 'early_labor_pain', 'green_amniotic_liquor',\n",
    "       'b_streptococcus', 'crp_max_prepartal',\n",
    "       'leukocyte_max_prepartal', 'fever_sub_partu', 'antibiotics_prepartal',\n",
    "       'crp_time_1', 'crp_value_1', 'crp_time_2', 'crp_value_2', 'crp_time_3',\n",
    "       'crp_value_3', 'crp_time_4', 'crp_value_4', 'crp_time_5', 'crp_value_5',\n",
    "       'IL6_time_1', 'IL6_value_1', 'Cal_time_1', 'Cal_value_1', 'Cal_time_2',\n",
    "       'Cal_value_2', 'Cal_time_3', 'Cal_value_3', 'Cal_time_4', 'Cal_value_4',\n",
    "       'Cal_time_5', 'Cal_value_5']"
   ]
  },
  {
   "cell_type": "code",
   "execution_count": 137,
   "id": "ba9dbcb2",
   "metadata": {},
   "outputs": [
    {
     "name": "stdout",
     "output_type": "stream",
     "text": [
      "Columns with missing values:\n",
      "birth_weight                     0\n",
      "gest_weeks                       1\n",
      "age_mother                       0\n",
      "gravidity                        3\n",
      "parity                           2\n",
      "birth_mode                       0\n",
      "umbilical_cord_ph                3\n",
      "capillary_time                  12\n",
      "o2_demand                        0\n",
      "breath_aid                       0\n",
      "heart_rate                       1\n",
      "respiration_rate                 5\n",
      "rr_systolic                      4\n",
      "rr_diastolic                     4\n",
      "base_excess                     17\n",
      "ph_value                        13\n",
      "antibiotic_therapy               0\n",
      "antibiotic_therapy_duration    115\n",
      "diagnosis_infection              0\n",
      "result_blood_culture            29\n",
      "gestation_diabetes               2\n",
      "diabetes_type_1_2                2\n",
      "adiposity                        2\n",
      "early_membrane_rupture           2\n",
      "membrane_rupture_hours         227\n",
      "early_labor_pain                 3\n",
      "green_amniotic_liquor            3\n",
      "b_streptococcus                  3\n",
      "crp_max_prepartal              285\n",
      "leukocyte_max_prepartal        300\n",
      "fever_sub_partu                  2\n",
      "antibiotics_prepartal            2\n",
      "crp_time_1                       0\n",
      "crp_value_1                      0\n",
      "crp_time_2                      36\n",
      "crp_value_2                     36\n",
      "crp_time_3                     184\n",
      "crp_value_3                    184\n",
      "crp_time_4                     278\n",
      "crp_value_4                    279\n",
      "crp_time_5                     313\n",
      "crp_value_5                    313\n",
      "IL6_time_1                       0\n",
      "IL6_value_1                      1\n",
      "Cal_time_1                       0\n",
      "Cal_value_1                      0\n",
      "Cal_time_2                     120\n",
      "Cal_value_2                    120\n",
      "Cal_time_3                     270\n",
      "Cal_value_3                    270\n",
      "Cal_time_4                     315\n",
      "Cal_value_4                    315\n",
      "Cal_time_5                     332\n",
      "Cal_value_5                    332\n",
      "dtype: int64\n"
     ]
    }
   ],
   "source": [
    "null_counts = df[keys].isnull().sum()\n",
    "\n",
    "# Filter to show only columns with missing values\n",
    "# null_counts = null_counts[null_counts > 0]\n",
    "\n",
    "print(\"Columns with missing values:\")\n",
    "print(null_counts)"
   ]
  },
  {
   "cell_type": "code",
   "execution_count": 138,
   "id": "3ef7a13f",
   "metadata": {},
   "outputs": [],
   "source": [
    "keys_cleaned = ['birth_weight', 'gest_weeks', 'age_mother', 'gravidity', 'parity', 'umbilical_cord_ph',\n",
    "       'o2_demand', 'breath_aid', 'heart_rate',\n",
    "       'respiration_rate', 'rr_systolic', 'rr_diastolic', 'base_excess',\n",
    "       'ph_value', 'antibiotic_therapy',\n",
    "       'diagnosis_infection', 'gestation_diabetes',\n",
    "       'diabetes_type_1_2', 'adiposity', 'early_membrane_rupture',\n",
    "       'early_labor_pain', 'green_amniotic_liquor',\n",
    "       'b_streptococcus',\n",
    "       'fever_sub_partu', 'antibiotics_prepartal',\n",
    "       'crp_value_1', 'IL6_time_1', 'IL6_value_1', 'Cal_value_1']"
   ]
  },
  {
   "cell_type": "code",
   "execution_count": 139,
   "id": "f997e2ad",
   "metadata": {},
   "outputs": [
    {
     "data": {
      "text/plain": [
       "(324, 58)"
      ]
     },
     "execution_count": 139,
     "metadata": {},
     "output_type": "execute_result"
    }
   ],
   "source": [
    "df_cleaned = df.dropna(subset=keys_cleaned).copy()\n",
    "df_cleaned.shape"
   ]
  },
  {
   "cell_type": "code",
   "execution_count": 140,
   "id": "4f1d7517",
   "metadata": {},
   "outputs": [],
   "source": [
    "features_clinical = ['birth_weight', 'gest_weeks', 'age_mother', 'gravidity', 'parity', 'umbilical_cord_ph',\n",
    "       'o2_demand', 'breath_aid', 'heart_rate',\n",
    "       'respiration_rate', 'rr_systolic', 'rr_diastolic', 'base_excess',\n",
    "       'ph_value', 'gestation_diabetes',\n",
    "       'diabetes_type_1_2', 'adiposity', 'early_membrane_rupture',\n",
    "       'early_labor_pain', 'green_amniotic_liquor',\n",
    "       'b_streptococcus',\n",
    "       'fever_sub_partu', 'antibiotics_prepartal']\n",
    "features_biomarkers_classic = ['crp_value_1', 'IL6_value_1']\n",
    "feature_cal = ['Cal_value_1']\n",
    "target = 'diagnosis_infection'\n",
    "all_features = features_clinical + feature_cal"
   ]
  },
  {
   "cell_type": "code",
   "execution_count": 141,
   "id": "a7f8fc20",
   "metadata": {},
   "outputs": [],
   "source": [
    "from sklearn.model_selection import train_test_split\n",
    "train_df, test_df = train_test_split(df_cleaned, test_size=0.2, random_state=42, stratify=df_cleaned[target])\n",
    "X_train = train_df[all_features]\n",
    "y_train = train_df[target]\n",
    "X_test = test_df[all_features]\n",
    "y_test = test_df[target]"
   ]
  },
  {
   "cell_type": "code",
   "execution_count": 154,
   "id": "89dccbba",
   "metadata": {},
   "outputs": [],
   "source": [
    "preprocessor = StandardScaler()\n",
    "\n",
    "model_pipeline = Pipeline(steps=[\n",
    "    ('preprocessor', preprocessor),\n",
    "    ('classifier', XGBClassifier(n_estimators=32, max_depth=6, learning_rate=1, objective='binary:logistic'))\n",
    "    # ('classifier', LogisticRegression(random_state=42, class_weight='balanced'))\n",
    "])\n",
    "# model = XGBClassifier(n_estimators=32, max_depth=2, learning_rate=1, objective='binary:logistic')"
   ]
  },
  {
   "cell_type": "code",
   "execution_count": 155,
   "id": "8be67221",
   "metadata": {},
   "outputs": [
    {
     "name": "stdout",
     "output_type": "stream",
     "text": [
      "\n",
      "Performance on the Test Set (Expanded Features):\n",
      "Test Set ROC AUC Score: 0.8222\n",
      "\n",
      "Classification Report (Test Set):\n",
      "              precision    recall  f1-score   support\n",
      "\n",
      "           0       0.79      0.91      0.85        45\n",
      "           1       0.69      0.45      0.55        20\n",
      "\n",
      "    accuracy                           0.77        65\n",
      "   macro avg       0.74      0.68      0.70        65\n",
      "weighted avg       0.76      0.77      0.75        65\n",
      "\n"
     ]
    }
   ],
   "source": [
    "model_pipeline.fit(X_train, y_train)\n",
    "\n",
    "# Evaluate on the unseen TEST set\n",
    "y_pred_test = model_pipeline.predict(X_test)\n",
    "y_pred_proba_test = model_pipeline.predict_proba(X_test)[:, 1]\n",
    "\n",
    "print(\"\\nPerformance on the Test Set (Expanded Features):\")\n",
    "print(f\"Test Set ROC AUC Score: {roc_auc_score(y_test, y_pred_proba_test):.4f}\")\n",
    "print(\"\\nClassification Report (Test Set):\")\n",
    "print(classification_report(y_test, y_pred_test))"
   ]
  },
  {
   "cell_type": "code",
   "execution_count": 144,
   "id": "285c74a6",
   "metadata": {},
   "outputs": [],
   "source": [
    "# sorted_idx = model_pipeline.named_steps['classifier'].feature_importances_.argsort()\n",
    "# plt.barh(all_features, model_pipeline.named_steps['classifier'].feature_importances_[sorted_idx])"
   ]
  },
  {
   "cell_type": "code",
   "execution_count": 145,
   "id": "f43806f0",
   "metadata": {},
   "outputs": [
    {
     "ename": "AttributeError",
     "evalue": "Coefficients are not defined for Booster type None",
     "output_type": "error",
     "traceback": [
      "\u001b[0;31m---------------------------------------------------------------------------\u001b[0m",
      "\u001b[0;31mAttributeError\u001b[0m                            Traceback (most recent call last)",
      "Cell \u001b[0;32mIn[145], line 2\u001b[0m\n\u001b[1;32m      1\u001b[0m coefficients \u001b[38;5;241m=\u001b[39m pd\u001b[38;5;241m.\u001b[39mDataFrame(\n\u001b[0;32m----> 2\u001b[0m     model_pipeline\u001b[38;5;241m.\u001b[39mnamed_steps[\u001b[38;5;124m'\u001b[39m\u001b[38;5;124mclassifier\u001b[39m\u001b[38;5;124m'\u001b[39m]\u001b[38;5;241m.\u001b[39mcoef_[\u001b[38;5;241m0\u001b[39m], \n\u001b[1;32m      3\u001b[0m     index\u001b[38;5;241m=\u001b[39mall_features, \n\u001b[1;32m      4\u001b[0m     columns\u001b[38;5;241m=\u001b[39m[\u001b[38;5;124m'\u001b[39m\u001b[38;5;124mCoefficient\u001b[39m\u001b[38;5;124m'\u001b[39m]\n\u001b[1;32m      5\u001b[0m )\n\u001b[1;32m      6\u001b[0m coefficients\u001b[38;5;241m.\u001b[39msort_values(\u001b[38;5;124m'\u001b[39m\u001b[38;5;124mCoefficient\u001b[39m\u001b[38;5;124m'\u001b[39m, ascending\u001b[38;5;241m=\u001b[39m\u001b[38;5;28;01mFalse\u001b[39;00m, inplace\u001b[38;5;241m=\u001b[39m\u001b[38;5;28;01mTrue\u001b[39;00m)\n\u001b[1;32m      8\u001b[0m \u001b[38;5;28mprint\u001b[39m(\u001b[38;5;124m\"\u001b[39m\u001b[38;5;130;01m\\n\u001b[39;00m\u001b[38;5;124m--- Expanded Model Feature Importance ---\u001b[39m\u001b[38;5;124m\"\u001b[39m)\n",
      "File \u001b[0;32m~/anaconda3/lib/python3.13/site-packages/xgboost/sklearn.py:1510\u001b[0m, in \u001b[0;36mXGBModel.coef_\u001b[0;34m(self)\u001b[0m\n\u001b[1;32m   1496\u001b[0m \u001b[38;5;250m\u001b[39m\u001b[38;5;124;03m\"\"\"\u001b[39;00m\n\u001b[1;32m   1497\u001b[0m \u001b[38;5;124;03mCoefficients property\u001b[39;00m\n\u001b[1;32m   1498\u001b[0m \n\u001b[0;32m   (...)\u001b[0m\n\u001b[1;32m   1507\u001b[0m \u001b[38;5;124;03mcoef_ : array of shape ``[n_features]`` or ``[n_classes, n_features]``\u001b[39;00m\n\u001b[1;32m   1508\u001b[0m \u001b[38;5;124;03m\"\"\"\u001b[39;00m\n\u001b[1;32m   1509\u001b[0m \u001b[38;5;28;01mif\u001b[39;00m \u001b[38;5;28mself\u001b[39m\u001b[38;5;241m.\u001b[39mget_xgb_params()[\u001b[38;5;124m\"\u001b[39m\u001b[38;5;124mbooster\u001b[39m\u001b[38;5;124m\"\u001b[39m] \u001b[38;5;241m!=\u001b[39m \u001b[38;5;124m\"\u001b[39m\u001b[38;5;124mgblinear\u001b[39m\u001b[38;5;124m\"\u001b[39m:\n\u001b[0;32m-> 1510\u001b[0m     \u001b[38;5;28;01mraise\u001b[39;00m \u001b[38;5;167;01mAttributeError\u001b[39;00m(\n\u001b[1;32m   1511\u001b[0m         \u001b[38;5;124mf\u001b[39m\u001b[38;5;124m\"\u001b[39m\u001b[38;5;124mCoefficients are not defined for Booster type \u001b[39m\u001b[38;5;132;01m{\u001b[39;00m\u001b[38;5;28mself\u001b[39m\u001b[38;5;241m.\u001b[39mbooster\u001b[38;5;132;01m}\u001b[39;00m\u001b[38;5;124m\"\u001b[39m\n\u001b[1;32m   1512\u001b[0m     )\n\u001b[1;32m   1513\u001b[0m b \u001b[38;5;241m=\u001b[39m \u001b[38;5;28mself\u001b[39m\u001b[38;5;241m.\u001b[39mget_booster()\n\u001b[1;32m   1514\u001b[0m coef \u001b[38;5;241m=\u001b[39m np\u001b[38;5;241m.\u001b[39marray(json\u001b[38;5;241m.\u001b[39mloads(b\u001b[38;5;241m.\u001b[39mget_dump(dump_format\u001b[38;5;241m=\u001b[39m\u001b[38;5;124m\"\u001b[39m\u001b[38;5;124mjson\u001b[39m\u001b[38;5;124m\"\u001b[39m)[\u001b[38;5;241m0\u001b[39m])[\u001b[38;5;124m\"\u001b[39m\u001b[38;5;124mweight\u001b[39m\u001b[38;5;124m\"\u001b[39m])\n",
      "\u001b[0;31mAttributeError\u001b[0m: Coefficients are not defined for Booster type None"
     ]
    }
   ],
   "source": [
    "coefficients = pd.DataFrame(\n",
    "    model_pipeline.named_steps['classifier'].coef_[0], \n",
    "    index=all_features, \n",
    "    columns=['Coefficient']\n",
    ")\n",
    "coefficients.sort_values('Coefficient', ascending=False, inplace=True)\n",
    "\n",
    "print(\"\\n--- Expanded Model Feature Importance ---\")\n",
    "print(coefficients)"
   ]
  },
  {
   "cell_type": "code",
   "execution_count": null,
   "id": "29c9a117",
   "metadata": {},
   "outputs": [
    {
     "name": "stdout",
     "output_type": "stream",
     "text": [
      "Confusion Matrix (Test Set):\n"
     ]
    },
    {
     "ename": "ValueError",
     "evalue": "feature_names mismatch: ['birth_weight', 'gest_weeks', 'age_mother', 'gravidity', 'parity', 'umbilical_cord_ph', 'o2_demand', 'breath_aid', 'heart_rate', 'respiration_rate', 'rr_systolic', 'rr_diastolic', 'base_excess', 'ph_value', 'gestation_diabetes', 'diabetes_type_1_2', 'adiposity', 'early_membrane_rupture', 'early_labor_pain', 'green_amniotic_liquor', 'b_streptococcus', 'fever_sub_partu', 'antibiotics_prepartal', 'crp_value_1', 'IL6_value_1', 'Cal_value_1'] ['birth_weight', 'gest_weeks', 'age_mother', 'gravidity', 'parity', 'umbilical_cord_ph', 'o2_demand', 'breath_aid', 'heart_rate', 'respiration_rate', 'rr_systolic', 'rr_diastolic', 'base_excess', 'ph_value', 'gestation_diabetes', 'diabetes_type_1_2', 'adiposity', 'early_membrane_rupture', 'early_labor_pain', 'green_amniotic_liquor', 'b_streptococcus', 'fever_sub_partu', 'antibiotics_prepartal', 'Cal_value_1']\nexpected IL6_value_1, crp_value_1 in input data",
     "output_type": "error",
     "traceback": [
      "\u001b[0;31m---------------------------------------------------------------------------\u001b[0m",
      "\u001b[0;31mValueError\u001b[0m                                Traceback (most recent call last)",
      "Cell \u001b[0;32mIn[118], line 2\u001b[0m\n\u001b[1;32m      1\u001b[0m \u001b[38;5;28mprint\u001b[39m(\u001b[38;5;124m\"\u001b[39m\u001b[38;5;124mConfusion Matrix (Test Set):\u001b[39m\u001b[38;5;124m\"\u001b[39m)\n\u001b[0;32m----> 2\u001b[0m ConfusionMatrixDisplay\u001b[38;5;241m.\u001b[39mfrom_estimator(model, X_test, y_test, cmap\u001b[38;5;241m=\u001b[39m\u001b[38;5;124m'\u001b[39m\u001b[38;5;124mBlues\u001b[39m\u001b[38;5;124m'\u001b[39m)\n\u001b[1;32m      3\u001b[0m plt\u001b[38;5;241m.\u001b[39mshow()\n",
      "File \u001b[0;32m~/anaconda3/lib/python3.13/site-packages/sklearn/metrics/_plot/confusion_matrix.py:324\u001b[0m, in \u001b[0;36mConfusionMatrixDisplay.from_estimator\u001b[0;34m(cls, estimator, X, y, labels, sample_weight, normalize, display_labels, include_values, xticks_rotation, values_format, cmap, ax, colorbar, im_kw, text_kw)\u001b[0m\n\u001b[1;32m    322\u001b[0m \u001b[38;5;28;01mif\u001b[39;00m \u001b[38;5;129;01mnot\u001b[39;00m is_classifier(estimator):\n\u001b[1;32m    323\u001b[0m     \u001b[38;5;28;01mraise\u001b[39;00m \u001b[38;5;167;01mValueError\u001b[39;00m(\u001b[38;5;124mf\u001b[39m\u001b[38;5;124m\"\u001b[39m\u001b[38;5;132;01m{\u001b[39;00mmethod_name\u001b[38;5;132;01m}\u001b[39;00m\u001b[38;5;124m only supports classifiers\u001b[39m\u001b[38;5;124m\"\u001b[39m)\n\u001b[0;32m--> 324\u001b[0m y_pred \u001b[38;5;241m=\u001b[39m estimator\u001b[38;5;241m.\u001b[39mpredict(X)\n\u001b[1;32m    326\u001b[0m \u001b[38;5;28;01mreturn\u001b[39;00m \u001b[38;5;28mcls\u001b[39m\u001b[38;5;241m.\u001b[39mfrom_predictions(\n\u001b[1;32m    327\u001b[0m     y,\n\u001b[1;32m    328\u001b[0m     y_pred,\n\u001b[0;32m   (...)\u001b[0m\n\u001b[1;32m    340\u001b[0m     text_kw\u001b[38;5;241m=\u001b[39mtext_kw,\n\u001b[1;32m    341\u001b[0m )\n",
      "File \u001b[0;32m~/anaconda3/lib/python3.13/site-packages/xgboost/core.py:729\u001b[0m, in \u001b[0;36mrequire_keyword_args.<locals>.throw_if.<locals>.inner_f\u001b[0;34m(*args, **kwargs)\u001b[0m\n\u001b[1;32m    727\u001b[0m \u001b[38;5;28;01mfor\u001b[39;00m k, arg \u001b[38;5;129;01min\u001b[39;00m \u001b[38;5;28mzip\u001b[39m(sig\u001b[38;5;241m.\u001b[39mparameters, args):\n\u001b[1;32m    728\u001b[0m     kwargs[k] \u001b[38;5;241m=\u001b[39m arg\n\u001b[0;32m--> 729\u001b[0m \u001b[38;5;28;01mreturn\u001b[39;00m func(\u001b[38;5;241m*\u001b[39m\u001b[38;5;241m*\u001b[39mkwargs)\n",
      "File \u001b[0;32m~/anaconda3/lib/python3.13/site-packages/xgboost/sklearn.py:1719\u001b[0m, in \u001b[0;36mXGBClassifier.predict\u001b[0;34m(self, X, output_margin, validate_features, base_margin, iteration_range)\u001b[0m\n\u001b[1;32m   1708\u001b[0m \u001b[38;5;129m@_deprecate_positional_args\u001b[39m\n\u001b[1;32m   1709\u001b[0m \u001b[38;5;28;01mdef\u001b[39;00m\u001b[38;5;250m \u001b[39m\u001b[38;5;21mpredict\u001b[39m(\n\u001b[1;32m   1710\u001b[0m     \u001b[38;5;28mself\u001b[39m,\n\u001b[0;32m   (...)\u001b[0m\n\u001b[1;32m   1716\u001b[0m     iteration_range: Optional[IterationRange] \u001b[38;5;241m=\u001b[39m \u001b[38;5;28;01mNone\u001b[39;00m,\n\u001b[1;32m   1717\u001b[0m ) \u001b[38;5;241m-\u001b[39m\u001b[38;5;241m>\u001b[39m ArrayLike:\n\u001b[1;32m   1718\u001b[0m     \u001b[38;5;28;01mwith\u001b[39;00m config_context(verbosity\u001b[38;5;241m=\u001b[39m\u001b[38;5;28mself\u001b[39m\u001b[38;5;241m.\u001b[39mverbosity):\n\u001b[0;32m-> 1719\u001b[0m         class_probs \u001b[38;5;241m=\u001b[39m \u001b[38;5;28msuper\u001b[39m()\u001b[38;5;241m.\u001b[39mpredict(\n\u001b[1;32m   1720\u001b[0m             X\u001b[38;5;241m=\u001b[39mX,\n\u001b[1;32m   1721\u001b[0m             output_margin\u001b[38;5;241m=\u001b[39moutput_margin,\n\u001b[1;32m   1722\u001b[0m             validate_features\u001b[38;5;241m=\u001b[39mvalidate_features,\n\u001b[1;32m   1723\u001b[0m             base_margin\u001b[38;5;241m=\u001b[39mbase_margin,\n\u001b[1;32m   1724\u001b[0m             iteration_range\u001b[38;5;241m=\u001b[39miteration_range,\n\u001b[1;32m   1725\u001b[0m         )\n\u001b[1;32m   1726\u001b[0m         \u001b[38;5;28;01mif\u001b[39;00m output_margin:\n\u001b[1;32m   1727\u001b[0m             \u001b[38;5;66;03m# If output_margin is active, simply return the scores\u001b[39;00m\n\u001b[1;32m   1728\u001b[0m             \u001b[38;5;28;01mreturn\u001b[39;00m class_probs\n",
      "File \u001b[0;32m~/anaconda3/lib/python3.13/site-packages/xgboost/core.py:729\u001b[0m, in \u001b[0;36mrequire_keyword_args.<locals>.throw_if.<locals>.inner_f\u001b[0;34m(*args, **kwargs)\u001b[0m\n\u001b[1;32m    727\u001b[0m \u001b[38;5;28;01mfor\u001b[39;00m k, arg \u001b[38;5;129;01min\u001b[39;00m \u001b[38;5;28mzip\u001b[39m(sig\u001b[38;5;241m.\u001b[39mparameters, args):\n\u001b[1;32m    728\u001b[0m     kwargs[k] \u001b[38;5;241m=\u001b[39m arg\n\u001b[0;32m--> 729\u001b[0m \u001b[38;5;28;01mreturn\u001b[39;00m func(\u001b[38;5;241m*\u001b[39m\u001b[38;5;241m*\u001b[39mkwargs)\n",
      "File \u001b[0;32m~/anaconda3/lib/python3.13/site-packages/xgboost/sklearn.py:1327\u001b[0m, in \u001b[0;36mXGBModel.predict\u001b[0;34m(self, X, output_margin, validate_features, base_margin, iteration_range)\u001b[0m\n\u001b[1;32m   1325\u001b[0m \u001b[38;5;28;01mif\u001b[39;00m \u001b[38;5;28mself\u001b[39m\u001b[38;5;241m.\u001b[39m_can_use_inplace_predict():\n\u001b[1;32m   1326\u001b[0m     \u001b[38;5;28;01mtry\u001b[39;00m:\n\u001b[0;32m-> 1327\u001b[0m         predts \u001b[38;5;241m=\u001b[39m \u001b[38;5;28mself\u001b[39m\u001b[38;5;241m.\u001b[39mget_booster()\u001b[38;5;241m.\u001b[39minplace_predict(\n\u001b[1;32m   1328\u001b[0m             data\u001b[38;5;241m=\u001b[39mX,\n\u001b[1;32m   1329\u001b[0m             iteration_range\u001b[38;5;241m=\u001b[39miteration_range,\n\u001b[1;32m   1330\u001b[0m             predict_type\u001b[38;5;241m=\u001b[39m\u001b[38;5;124m\"\u001b[39m\u001b[38;5;124mmargin\u001b[39m\u001b[38;5;124m\"\u001b[39m \u001b[38;5;28;01mif\u001b[39;00m output_margin \u001b[38;5;28;01melse\u001b[39;00m \u001b[38;5;124m\"\u001b[39m\u001b[38;5;124mvalue\u001b[39m\u001b[38;5;124m\"\u001b[39m,\n\u001b[1;32m   1331\u001b[0m             missing\u001b[38;5;241m=\u001b[39m\u001b[38;5;28mself\u001b[39m\u001b[38;5;241m.\u001b[39mmissing,\n\u001b[1;32m   1332\u001b[0m             base_margin\u001b[38;5;241m=\u001b[39mbase_margin,\n\u001b[1;32m   1333\u001b[0m             validate_features\u001b[38;5;241m=\u001b[39mvalidate_features,\n\u001b[1;32m   1334\u001b[0m         )\n\u001b[1;32m   1335\u001b[0m         \u001b[38;5;28;01mif\u001b[39;00m _is_cupy_alike(predts):\n\u001b[1;32m   1336\u001b[0m             cp \u001b[38;5;241m=\u001b[39m import_cupy()\n",
      "File \u001b[0;32m~/anaconda3/lib/python3.13/site-packages/xgboost/core.py:729\u001b[0m, in \u001b[0;36mrequire_keyword_args.<locals>.throw_if.<locals>.inner_f\u001b[0;34m(*args, **kwargs)\u001b[0m\n\u001b[1;32m    727\u001b[0m \u001b[38;5;28;01mfor\u001b[39;00m k, arg \u001b[38;5;129;01min\u001b[39;00m \u001b[38;5;28mzip\u001b[39m(sig\u001b[38;5;241m.\u001b[39mparameters, args):\n\u001b[1;32m    728\u001b[0m     kwargs[k] \u001b[38;5;241m=\u001b[39m arg\n\u001b[0;32m--> 729\u001b[0m \u001b[38;5;28;01mreturn\u001b[39;00m func(\u001b[38;5;241m*\u001b[39m\u001b[38;5;241m*\u001b[39mkwargs)\n",
      "File \u001b[0;32m~/anaconda3/lib/python3.13/site-packages/xgboost/core.py:2667\u001b[0m, in \u001b[0;36mBooster.inplace_predict\u001b[0;34m(self, data, iteration_range, predict_type, missing, validate_features, base_margin, strict_shape)\u001b[0m\n\u001b[1;32m   2665\u001b[0m     data, fns, _ \u001b[38;5;241m=\u001b[39m _transform_pandas_df(data, enable_categorical)\n\u001b[1;32m   2666\u001b[0m     \u001b[38;5;28;01mif\u001b[39;00m validate_features:\n\u001b[0;32m-> 2667\u001b[0m         \u001b[38;5;28mself\u001b[39m\u001b[38;5;241m.\u001b[39m_validate_features(fns)\n\u001b[1;32m   2668\u001b[0m \u001b[38;5;28;01mif\u001b[39;00m _is_list(data) \u001b[38;5;129;01mor\u001b[39;00m _is_tuple(data):\n\u001b[1;32m   2669\u001b[0m     data \u001b[38;5;241m=\u001b[39m np\u001b[38;5;241m.\u001b[39marray(data)\n",
      "File \u001b[0;32m~/anaconda3/lib/python3.13/site-packages/xgboost/core.py:3243\u001b[0m, in \u001b[0;36mBooster._validate_features\u001b[0;34m(self, feature_names)\u001b[0m\n\u001b[1;32m   3237\u001b[0m \u001b[38;5;28;01mif\u001b[39;00m my_missing:\n\u001b[1;32m   3238\u001b[0m     msg \u001b[38;5;241m+\u001b[39m\u001b[38;5;241m=\u001b[39m (\n\u001b[1;32m   3239\u001b[0m         \u001b[38;5;124m\"\u001b[39m\u001b[38;5;130;01m\\n\u001b[39;00m\u001b[38;5;124mtraining data did not have the following fields: \u001b[39m\u001b[38;5;124m\"\u001b[39m\n\u001b[1;32m   3240\u001b[0m         \u001b[38;5;241m+\u001b[39m \u001b[38;5;124m\"\u001b[39m\u001b[38;5;124m, \u001b[39m\u001b[38;5;124m\"\u001b[39m\u001b[38;5;241m.\u001b[39mjoin(\u001b[38;5;28mstr\u001b[39m(s) \u001b[38;5;28;01mfor\u001b[39;00m s \u001b[38;5;129;01min\u001b[39;00m my_missing)\n\u001b[1;32m   3241\u001b[0m     )\n\u001b[0;32m-> 3243\u001b[0m \u001b[38;5;28;01mraise\u001b[39;00m \u001b[38;5;167;01mValueError\u001b[39;00m(msg\u001b[38;5;241m.\u001b[39mformat(\u001b[38;5;28mself\u001b[39m\u001b[38;5;241m.\u001b[39mfeature_names, feature_names))\n",
      "\u001b[0;31mValueError\u001b[0m: feature_names mismatch: ['birth_weight', 'gest_weeks', 'age_mother', 'gravidity', 'parity', 'umbilical_cord_ph', 'o2_demand', 'breath_aid', 'heart_rate', 'respiration_rate', 'rr_systolic', 'rr_diastolic', 'base_excess', 'ph_value', 'gestation_diabetes', 'diabetes_type_1_2', 'adiposity', 'early_membrane_rupture', 'early_labor_pain', 'green_amniotic_liquor', 'b_streptococcus', 'fever_sub_partu', 'antibiotics_prepartal', 'crp_value_1', 'IL6_value_1', 'Cal_value_1'] ['birth_weight', 'gest_weeks', 'age_mother', 'gravidity', 'parity', 'umbilical_cord_ph', 'o2_demand', 'breath_aid', 'heart_rate', 'respiration_rate', 'rr_systolic', 'rr_diastolic', 'base_excess', 'ph_value', 'gestation_diabetes', 'diabetes_type_1_2', 'adiposity', 'early_membrane_rupture', 'early_labor_pain', 'green_amniotic_liquor', 'b_streptococcus', 'fever_sub_partu', 'antibiotics_prepartal', 'Cal_value_1']\nexpected IL6_value_1, crp_value_1 in input data"
     ]
    }
   ],
   "source": [
    "print(\"Confusion Matrix (Test Set):\")\n",
    "ConfusionMatrixDisplay.from_estimator(model, X_test, y_test, cmap='Blues')\n",
    "plt.show()"
   ]
  },
  {
   "cell_type": "code",
   "execution_count": null,
   "id": "5d189b68",
   "metadata": {},
   "outputs": [],
   "source": []
  },
  {
   "cell_type": "code",
   "execution_count": null,
   "id": "f14b33bd",
   "metadata": {},
   "outputs": [],
   "source": []
  },
  {
   "cell_type": "code",
   "execution_count": null,
   "id": "48baaac0",
   "metadata": {},
   "outputs": [],
   "source": []
  },
  {
   "cell_type": "code",
   "execution_count": null,
   "id": "8865aa1f",
   "metadata": {},
   "outputs": [],
   "source": []
  },
  {
   "cell_type": "code",
   "execution_count": null,
   "id": "6cb1e381",
   "metadata": {},
   "outputs": [],
   "source": []
  },
  {
   "cell_type": "code",
   "execution_count": null,
   "id": "f8b8fcd8",
   "metadata": {},
   "outputs": [],
   "source": []
  },
  {
   "cell_type": "code",
   "execution_count": null,
   "id": "219e08ce",
   "metadata": {},
   "outputs": [],
   "source": []
  }
 ],
 "metadata": {
  "kernelspec": {
   "display_name": "base",
   "language": "python",
   "name": "python3"
  },
  "language_info": {
   "codemirror_mode": {
    "name": "ipython",
    "version": 3
   },
   "file_extension": ".py",
   "mimetype": "text/x-python",
   "name": "python",
   "nbconvert_exporter": "python",
   "pygments_lexer": "ipython3",
   "version": "3.13.5"
  }
 },
 "nbformat": 4,
 "nbformat_minor": 5
}
