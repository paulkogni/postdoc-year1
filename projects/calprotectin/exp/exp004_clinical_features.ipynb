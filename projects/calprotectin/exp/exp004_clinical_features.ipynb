{
 "cells": [
  {
   "cell_type": "code",
   "execution_count": 14,
   "id": "8c8aec26",
   "metadata": {},
   "outputs": [],
   "source": [
    "import pandas as pd\n",
    "from sklearn.preprocessing import StandardScaler, OneHotEncoder\n",
    "from sklearn.linear_model import LogisticRegression\n",
    "from sklearn.compose import ColumnTransformer\n",
    "from sklearn.pipeline import Pipeline\n",
    "from sklearn.metrics import classification_report, roc_auc_score, ConfusionMatrixDisplay\n",
    "import matplotlib.pyplot as plt"
   ]
  },
  {
   "cell_type": "code",
   "execution_count": 15,
   "id": "77068a65",
   "metadata": {},
   "outputs": [],
   "source": [
    "path_csv = '/home/paul/workspace/postdoc-year1/projects/calprotectin/data/Sepsis_Validation_FINAL DATASET_110925_SH.xlsx'\n",
    "df = pd.read_excel(path_csv)\n",
    "# drop the one NaN from IL6\n",
    "# df_cleaned = df.dropna(subset=['IL6_value_1', 'fever_sub_partu', 'b_streptococcus']).copy()\n",
    "# df_cleaned.shape"
   ]
  },
  {
   "cell_type": "code",
   "execution_count": 16,
   "id": "5774250a",
   "metadata": {},
   "outputs": [
    {
     "data": {
      "text/plain": [
       "(355, 58)"
      ]
     },
     "execution_count": 16,
     "metadata": {},
     "output_type": "execute_result"
    }
   ],
   "source": [
    "df.shape"
   ]
  },
  {
   "cell_type": "code",
   "execution_count": 17,
   "id": "a8be88f9",
   "metadata": {},
   "outputs": [],
   "source": [
    "keys = ['birth_weight', 'gest_weeks', 'age_mother', 'gravidity', 'parity', 'birth_mode', 'umbilical_cord_ph',\n",
    "       'capillary_time', 'o2_demand', 'breath_aid', 'heart_rate',\n",
    "       'respiration_rate', 'rr_systolic', 'rr_diastolic', 'base_excess',\n",
    "       'ph_value', 'antibiotic_therapy', 'antibiotic_therapy_duration',\n",
    "       'diagnosis_infection', 'result_blood_culture', 'gestation_diabetes',\n",
    "       'diabetes_type_1_2', 'adiposity', 'early_membrane_rupture',\n",
    "       'membrane_rupture_hours', 'early_labor_pain', 'green_amniotic_liquor',\n",
    "       'b_streptococcus', 'crp_max_prepartal',\n",
    "       'leukocyte_max_prepartal', 'fever_sub_partu', 'antibiotics_prepartal',\n",
    "       'crp_time_1', 'crp_value_1', 'crp_time_2', 'crp_value_2', 'crp_time_3',\n",
    "       'crp_value_3', 'crp_time_4', 'crp_value_4', 'crp_time_5', 'crp_value_5',\n",
    "       'IL6_time_1', 'IL6_value_1', 'Cal_time_1', 'Cal_value_1', 'Cal_time_2',\n",
    "       'Cal_value_2', 'Cal_time_3', 'Cal_value_3', 'Cal_time_4', 'Cal_value_4',\n",
    "       'Cal_time_5', 'Cal_value_5']"
   ]
  },
  {
   "cell_type": "code",
   "execution_count": 18,
   "id": "ba9dbcb2",
   "metadata": {},
   "outputs": [
    {
     "name": "stdout",
     "output_type": "stream",
     "text": [
      "Columns with missing values:\n",
      "birth_weight                     0\n",
      "gest_weeks                       1\n",
      "age_mother                       0\n",
      "gravidity                        3\n",
      "parity                           2\n",
      "birth_mode                       0\n",
      "umbilical_cord_ph                3\n",
      "capillary_time                  12\n",
      "o2_demand                        0\n",
      "breath_aid                       0\n",
      "heart_rate                       1\n",
      "respiration_rate                 5\n",
      "rr_systolic                      4\n",
      "rr_diastolic                     4\n",
      "base_excess                     17\n",
      "ph_value                        13\n",
      "antibiotic_therapy               0\n",
      "antibiotic_therapy_duration    115\n",
      "diagnosis_infection              0\n",
      "result_blood_culture            29\n",
      "gestation_diabetes               2\n",
      "diabetes_type_1_2                2\n",
      "adiposity                        2\n",
      "early_membrane_rupture           2\n",
      "membrane_rupture_hours         227\n",
      "early_labor_pain                 3\n",
      "green_amniotic_liquor            3\n",
      "b_streptococcus                  3\n",
      "crp_max_prepartal              285\n",
      "leukocyte_max_prepartal        300\n",
      "fever_sub_partu                  2\n",
      "antibiotics_prepartal            2\n",
      "crp_time_1                       0\n",
      "crp_value_1                      0\n",
      "crp_time_2                      36\n",
      "crp_value_2                     36\n",
      "crp_time_3                     184\n",
      "crp_value_3                    184\n",
      "crp_time_4                     278\n",
      "crp_value_4                    279\n",
      "crp_time_5                     313\n",
      "crp_value_5                    313\n",
      "IL6_time_1                       0\n",
      "IL6_value_1                      1\n",
      "Cal_time_1                       0\n",
      "Cal_value_1                      0\n",
      "Cal_time_2                     120\n",
      "Cal_value_2                    120\n",
      "Cal_time_3                     270\n",
      "Cal_value_3                    270\n",
      "Cal_time_4                     315\n",
      "Cal_value_4                    315\n",
      "Cal_time_5                     332\n",
      "Cal_value_5                    332\n",
      "dtype: int64\n"
     ]
    }
   ],
   "source": [
    "null_counts = df[keys].isnull().sum()\n",
    "\n",
    "# Filter to show only columns with missing values\n",
    "# null_counts = null_counts[null_counts > 0]\n",
    "\n",
    "print(\"Columns with missing values:\")\n",
    "print(null_counts)"
   ]
  },
  {
   "cell_type": "code",
   "execution_count": 19,
   "id": "3ef7a13f",
   "metadata": {},
   "outputs": [],
   "source": [
    "keys_cleaned = ['birth_weight', 'gest_weeks', 'age_mother', 'gravidity', 'parity', 'umbilical_cord_ph',\n",
    "       'o2_demand', 'breath_aid', 'heart_rate',\n",
    "       'respiration_rate', 'rr_systolic', 'rr_diastolic', 'base_excess',\n",
    "       'ph_value', 'antibiotic_therapy',\n",
    "       'diagnosis_infection', 'gestation_diabetes',\n",
    "       'diabetes_type_1_2', 'adiposity', 'early_membrane_rupture',\n",
    "       'early_labor_pain', 'green_amniotic_liquor',\n",
    "       'b_streptococcus',\n",
    "       'fever_sub_partu', 'antibiotics_prepartal',\n",
    "       'crp_value_1', 'IL6_time_1', 'IL6_value_1', 'Cal_value_1']"
   ]
  },
  {
   "cell_type": "code",
   "execution_count": 20,
   "id": "f997e2ad",
   "metadata": {},
   "outputs": [
    {
     "data": {
      "text/plain": [
       "(324, 58)"
      ]
     },
     "execution_count": 20,
     "metadata": {},
     "output_type": "execute_result"
    }
   ],
   "source": [
    "df_cleaned = df.dropna(subset=keys_cleaned).copy()\n",
    "df_cleaned.shape"
   ]
  },
  {
   "cell_type": "code",
   "execution_count": 21,
   "id": "4f1d7517",
   "metadata": {},
   "outputs": [],
   "source": [
    "features_clinical = ['birth_weight', 'gest_weeks', 'age_mother', 'gravidity', 'parity', 'umbilical_cord_ph',\n",
    "       'o2_demand', 'breath_aid', 'heart_rate',\n",
    "       'respiration_rate', 'rr_systolic', 'rr_diastolic', 'base_excess',\n",
    "       'ph_value', 'gestation_diabetes',\n",
    "       'diabetes_type_1_2', 'adiposity', 'early_membrane_rupture',\n",
    "       'early_labor_pain', 'green_amniotic_liquor',\n",
    "       'b_streptococcus',\n",
    "       'fever_sub_partu', 'antibiotics_prepartal']\n",
    "features_biomarkers_classic = ['crp_value_1', 'IL6_value_1']\n",
    "feature_cal = ['Cal_value_1']\n",
    "target = 'diagnosis_infection'\n",
    "all_features = features_clinical + features_biomarkers_classic + feature_cal"
   ]
  },
  {
   "cell_type": "code",
   "execution_count": 22,
   "id": "a7f8fc20",
   "metadata": {},
   "outputs": [],
   "source": [
    "from sklearn.model_selection import train_test_split\n",
    "train_df, test_df = train_test_split(df_cleaned, test_size=0.2, random_state=42, stratify=df_cleaned[target])\n",
    "X_train = train_df[features_clinical + feature_cal]\n",
    "y_train = train_df[target]\n",
    "X_test = test_df[features_clinical + feature_cal]\n",
    "y_test = test_df[target]"
   ]
  },
  {
   "cell_type": "code",
   "execution_count": 23,
   "id": "89dccbba",
   "metadata": {},
   "outputs": [],
   "source": [
    "preprocessor = StandardScaler()\n",
    "\n",
    "model_pipeline = Pipeline(steps=[\n",
    "    ('preprocessor', preprocessor),\n",
    "    ('classifier', LogisticRegression(random_state=42, class_weight='balanced'))\n",
    "])"
   ]
  },
  {
   "cell_type": "code",
   "execution_count": 24,
   "id": "8be67221",
   "metadata": {},
   "outputs": [
    {
     "name": "stdout",
     "output_type": "stream",
     "text": [
      "\n",
      "Performance on the Test Set (Expanded Features):\n",
      "Test Set ROC AUC Score: 0.7578\n",
      "\n",
      "Classification Report (Test Set):\n",
      "              precision    recall  f1-score   support\n",
      "\n",
      "           0       0.82      0.73      0.78        45\n",
      "           1       0.52      0.65      0.58        20\n",
      "\n",
      "    accuracy                           0.71        65\n",
      "   macro avg       0.67      0.69      0.68        65\n",
      "weighted avg       0.73      0.71      0.72        65\n",
      "\n"
     ]
    }
   ],
   "source": [
    "model_pipeline.fit(X_train, y_train)\n",
    "\n",
    "# Evaluate on the unseen TEST set\n",
    "y_pred_test = model_pipeline.predict(X_test)\n",
    "y_pred_proba_test = model_pipeline.predict_proba(X_test)[:, 1]\n",
    "\n",
    "print(\"\\nPerformance on the Test Set (Expanded Features):\")\n",
    "print(f\"Test Set ROC AUC Score: {roc_auc_score(y_test, y_pred_proba_test):.4f}\")\n",
    "print(\"\\nClassification Report (Test Set):\")\n",
    "print(classification_report(y_test, y_pred_test))"
   ]
  },
  {
   "cell_type": "code",
   "execution_count": 26,
   "id": "f43806f0",
   "metadata": {},
   "outputs": [
    {
     "name": "stdout",
     "output_type": "stream",
     "text": [
      "\n",
      "--- Expanded Model Feature Importance ---\n",
      "                        Coefficient\n",
      "o2_demand                  0.581403\n",
      "Cal_value_1                0.467267\n",
      "birth_weight               0.412987\n",
      "respiration_rate           0.327957\n",
      "rr_systolic                0.202072\n",
      "green_amniotic_liquor      0.193285\n",
      "gestation_diabetes         0.185281\n",
      "gravidity                  0.143119\n",
      "b_streptococcus            0.124244\n",
      "heart_rate                 0.111774\n",
      "antibiotics_prepartal      0.096341\n",
      "base_excess               -0.013816\n",
      "ph_value                  -0.043061\n",
      "fever_sub_partu           -0.060532\n",
      "early_labor_pain          -0.077467\n",
      "breath_aid                -0.110488\n",
      "umbilical_cord_ph         -0.122366\n",
      "rr_diastolic              -0.181329\n",
      "adiposity                 -0.227329\n",
      "parity                    -0.231669\n",
      "early_membrane_rupture    -0.236912\n",
      "gest_weeks                -0.270384\n",
      "diabetes_type_1_2         -0.382711\n",
      "age_mother                -0.425074\n"
     ]
    }
   ],
   "source": [
    "coefficients = pd.DataFrame(\n",
    "    model_pipeline.named_steps['classifier'].coef_[0], \n",
    "    index=features_clinical + feature_cal, \n",
    "    columns=['Coefficient']\n",
    ")\n",
    "coefficients.sort_values('Coefficient', ascending=False, inplace=True)\n",
    "\n",
    "print(\"\\n--- Expanded Model Feature Importance ---\")\n",
    "print(coefficients)"
   ]
  },
  {
   "cell_type": "code",
   "execution_count": null,
   "id": "29c9a117",
   "metadata": {},
   "outputs": [
    {
     "name": "stdout",
     "output_type": "stream",
     "text": [
      "Confusion Matrix (Test Set):\n"
     ]
    },
    {
     "data": {
      "image/png": "[encoded data removed]",
      "text/plain": [
       "<Figure size 640x480 with 2 Axes>"
      ]
     },
     "metadata": {},
     "output_type": "display_data"
    }
   ],
   "source": [
    "print(\"Confusion Matrix (Test Set):\")\n",
    "ConfusionMatrixDisplay.from_estimator(model_pipeline, X_test, y_test, cmap='Blues')\n",
    "plt.show()"
   ]
  },
  {
   "cell_type": "code",
   "execution_count": null,
   "id": "5d189b68",
   "metadata": {},
   "outputs": [],
   "source": []
  },
  {
   "cell_type": "code",
   "execution_count": null,
   "id": "f14b33bd",
   "metadata": {},
   "outputs": [],
   "source": []
  },
  {
   "cell_type": "code",
   "execution_count": null,
   "id": "48baaac0",
   "metadata": {},
   "outputs": [],
   "source": []
  },
  {
   "cell_type": "code",
   "execution_count": null,
   "id": "8865aa1f",
   "metadata": {},
   "outputs": [],
   "source": []
  },
  {
   "cell_type": "code",
   "execution_count": null,
   "id": "6cb1e381",
   "metadata": {},
   "outputs": [],
   "source": []
  },
  {
   "cell_type": "code",
   "execution_count": null,
   "id": "f8b8fcd8",
   "metadata": {},
   "outputs": [],
   "source": []
  },
  {
   "cell_type": "code",
   "execution_count": null,
   "id": "219e08ce",
   "metadata": {},
   "outputs": [],
   "source": []
  }
 ],
 "metadata": {
  "kernelspec": {
   "display_name": "base",
   "language": "python",
   "name": "python3"
  },
  "language_info": {
   "codemirror_mode": {
    "name": "ipython",
    "version": 3
   },
   "file_extension": ".py",
   "mimetype": "text/x-python",
   "name": "python",
   "nbconvert_exporter": "python",
   "pygments_lexer": "ipython3",
   "version": "3.13.5"
  }
 },
 "nbformat": 4,
 "nbformat_minor": 5
}
