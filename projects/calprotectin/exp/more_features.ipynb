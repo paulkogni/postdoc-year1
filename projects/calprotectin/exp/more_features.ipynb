{
 "cells": [
  {
   "cell_type": "code",
   "execution_count": 1,
   "id": "be7db1d3",
   "metadata": {},
   "outputs": [],
   "source": [
    "import pandas as pd\n",
    "from sklearn.model_selection import StratifiedKFold, cross_val_score\n",
    "from sklearn.preprocessing import StandardScaler, OneHotEncoder\n",
    "from sklearn.linear_model import LogisticRegression\n",
    "from sklearn.compose import ColumnTransformer\n",
    "from sklearn.pipeline import Pipeline\n",
    "from sklearn.metrics import classification_report, roc_auc_score"
   ]
  },
  {
   "cell_type": "code",
   "execution_count": 2,
   "id": "5fe96e64",
   "metadata": {},
   "outputs": [
    {
     "data": {
      "text/plain": [
       "(351, 58)"
      ]
     },
     "execution_count": 2,
     "metadata": {},
     "output_type": "execute_result"
    }
   ],
   "source": [
    "path_csv = '/home/paul/workspace/postdoc-year1/projects/calprotectin/data/Sepsis_Validation_FINAL DATASET_110925_SH.xlsx'\n",
    "df = pd.read_excel(path_csv)\n",
    "# drop the one NaN from IL6\n",
    "df_cleaned = df.dropna(subset=['IL6_value_1', 'fever_sub_partu', 'b_streptococcus']).copy()\n",
    "df_cleaned.shape"
   ]
  },
  {
   "cell_type": "code",
   "execution_count": null,
   "id": "76e36066",
   "metadata": {},
   "outputs": [],
   "source": [
    "\n",
    "# --- 2. Define the new, expanded feature set ---\n",
    "BIOMARKER_FEATURES = ['crp_value_1', 'IL6_value_1', 'Cal_value_1']\n",
    "RISK_FEATURES = [\n",
    "    'fever_sub_partu',\n",
    "    'b_streptococcus',\n",
    "    'breath_aid' # Example from the clinical status features\n",
    "]\n",
    "ALL_FEATURES = BIOMARKER_FEATURES + RISK_FEATURES\n",
    "TARGET = 'diagnosis_infection'\n"
   ]
  },
  {
   "cell_type": "code",
   "execution_count": 4,
   "id": "1bbb982d",
   "metadata": {},
   "outputs": [],
   "source": [
    "# Let's re-create them here for a complete example.\n",
    "from sklearn.model_selection import train_test_split\n",
    "train_df, temp_df = train_test_split(df_cleaned, test_size=0.2, random_state=42, stratify=df_cleaned[TARGET])\n",
    "val_df, test_df = train_test_split(temp_df, test_size=0.5, random_state=42, stratify=temp_df[TARGET])\n",
    "\n",
    "X_train = train_df[ALL_FEATURES]\n",
    "y_train = train_df[TARGET]\n",
    "X_test = test_df[ALL_FEATURES]\n",
    "y_test = test_df[TARGET]"
   ]
  },
  {
   "cell_type": "code",
   "execution_count": 5,
   "id": "0a9a5dac",
   "metadata": {},
   "outputs": [],
   "source": [
    "\n",
    "# Since all our new features are numeric or binary (0/1), StandardScaler is sufficient.\n",
    "# If you add categorical features like `birth_mode`, you'll need OneHotEncoder.\n",
    "\n",
    "# Define which columns need scaling\n",
    "# numeric_features = ['crp_value_1', 'IL6_value_1', 'Cal_value_1', \n",
    "#                     'gestational_age_weeks', 'membrane_rupture_hours']\n",
    "\n",
    "# The binary features don't strictly need scaling, but it doesn't hurt.\n",
    "# We'll scale all of them for simplicity here.\n",
    "preprocessor = StandardScaler()\n",
    "\n",
    "# --- 4. Create the full model pipeline ---\n",
    "# A pipeline bundles preprocessing and the model into one object. This is best practice!\n",
    "model_pipeline = Pipeline(steps=[\n",
    "    ('preprocessor', preprocessor),\n",
    "    ('classifier', LogisticRegression(random_state=42, class_weight='balanced'))\n",
    "])"
   ]
  },
  {
   "cell_type": "code",
   "execution_count": 6,
   "id": "ce0fe581",
   "metadata": {},
   "outputs": [
    {
     "name": "stdout",
     "output_type": "stream",
     "text": [
      "\n",
      "Performance on the Test Set (Expanded Features):\n",
      "Test Set ROC AUC Score: 0.7418\n",
      "\n",
      "Classification Report (Test Set):\n",
      "              precision    recall  f1-score   support\n",
      "\n",
      "           0       0.77      0.80      0.78        25\n",
      "           1       0.50      0.45      0.48        11\n",
      "\n",
      "    accuracy                           0.69        36\n",
      "   macro avg       0.63      0.63      0.63        36\n",
      "weighted avg       0.69      0.69      0.69        36\n",
      "\n"
     ]
    }
   ],
   "source": [
    "model_pipeline.fit(X_train, y_train)\n",
    "\n",
    "# Evaluate on the unseen TEST set\n",
    "y_pred_test = model_pipeline.predict(X_test)\n",
    "y_pred_proba_test = model_pipeline.predict_proba(X_test)[:, 1]\n",
    "\n",
    "print(\"\\nPerformance on the Test Set (Expanded Features):\")\n",
    "print(f\"Test Set ROC AUC Score: {roc_auc_score(y_test, y_pred_proba_test):.4f}\")\n",
    "print(\"\\nClassification Report (Test Set):\")\n",
    "print(classification_report(y_test, y_pred_test))"
   ]
  },
  {
   "cell_type": "code",
   "execution_count": 7,
   "id": "28173ecd",
   "metadata": {},
   "outputs": [
    {
     "name": "stdout",
     "output_type": "stream",
     "text": [
      "\n",
      "--- Expanded Model Feature Importance ---\n",
      "                 Coefficient\n",
      "IL6_value_1         3.134927\n",
      "crp_value_1         1.140759\n",
      "breath_aid          0.785831\n",
      "Cal_value_1         0.368222\n",
      "b_streptococcus     0.272385\n",
      "fever_sub_partu    -0.011152\n"
     ]
    }
   ],
   "source": [
    "coefficients = pd.DataFrame(\n",
    "    model_pipeline.named_steps['classifier'].coef_[0], \n",
    "    index=ALL_FEATURES, \n",
    "    columns=['Coefficient']\n",
    ")\n",
    "coefficients.sort_values('Coefficient', ascending=False, inplace=True)\n",
    "\n",
    "print(\"\\n--- Expanded Model Feature Importance ---\")\n",
    "print(coefficients)"
   ]
  },
  {
   "cell_type": "code",
   "execution_count": null,
   "id": "775f7320",
   "metadata": {},
   "outputs": [],
   "source": []
  },
  {
   "cell_type": "code",
   "execution_count": null,
   "id": "69c21e03",
   "metadata": {},
   "outputs": [],
   "source": []
  },
  {
   "cell_type": "code",
   "execution_count": null,
   "id": "6274cd1f",
   "metadata": {},
   "outputs": [],
   "source": []
  },
  {
   "cell_type": "code",
   "execution_count": null,
   "id": "4593d478",
   "metadata": {},
   "outputs": [],
   "source": []
  },
  {
   "cell_type": "code",
   "execution_count": null,
   "id": "4bd71a25",
   "metadata": {},
   "outputs": [],
   "source": []
  },
  {
   "cell_type": "code",
   "execution_count": null,
   "id": "8c0f80f6",
   "metadata": {},
   "outputs": [],
   "source": []
  }
 ],
 "metadata": {
  "kernelspec": {
   "display_name": "base",
   "language": "python",
   "name": "python3"
  },
  "language_info": {
   "codemirror_mode": {
    "name": "ipython",
    "version": 3
   },
   "file_extension": ".py",
   "mimetype": "text/x-python",
   "name": "python",
   "nbconvert_exporter": "python",
   "pygments_lexer": "ipython3",
   "version": "3.13.5"
  }
 },
 "nbformat": 4,
 "nbformat_minor": 5
}
